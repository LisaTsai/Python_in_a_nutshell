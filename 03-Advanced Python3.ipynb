{
 "cells": [
  {
   "cell_type": "markdown",
   "metadata": {
    "colab_type": "text",
    "id": "74NTE3-yIlpZ"
   },
   "source": [
    "![Python Logo](python-logo-master-v3-TM.png)  \n",
    "# 製作Python小遊戲及專題"
   ]
  },
  {
   "cell_type": "markdown",
   "metadata": {
    "colab_type": "text",
    "id": "ovaWqBv2Ilpc"
   },
   "source": [
    "MIT License. Copyright (c) 2019 LisaTsai in CAVEDU\n",
    "### 1. 建立互動式介面  \n",
    "\n",
    "==============\n"
   ]
  },
  {
   "cell_type": "markdown",
   "metadata": {
    "colab_type": "text",
    "id": "JwzeNHFlIlpd"
   },
   "source": [
    "ipywidgets函式庫提供不同的互動式元件，讓使用者能在Jupyter Notebook/Jupyter Lab上輕鬆建立互動式介面。\n",
    "\n",
    "首先，先匯入函式庫："
   ]
  },
  {
   "cell_type": "code",
   "execution_count": 0,
   "metadata": {
    "colab": {},
    "colab_type": "code",
    "id": "LCSHPRSrIlpe"
   },
   "outputs": [],
   "source": [
    "import ipywidgets as widgets\n",
    "from IPython.display import display, clear_output"
   ]
  },
  {
   "cell_type": "markdown",
   "metadata": {},
   "source": [
    "### 解決Jupyter Lab不能執行ipywidgets的問題\n",
    "\n",
    "打開Anaconda Prompt  \n",
    "\n",
    "conda install -c conda-forge nodejs  \n",
    "\n",
    "conda install -c conda-forge ipywidgets  \n",
    "\n",
    "conda install -c conda-forge jupyterlab\n"
   ]
  },
  {
   "cell_type": "markdown",
   "metadata": {
    "colab_type": "text",
    "id": "hJxvpXDZIlph"
   },
   "source": [
    "==============\n",
    "\n",
    "### 1-1 設計使用者輸入介面\n",
    "\n",
    "前兩堂課教大家使用**input()**來取得使用者輸入內容  \n",
    "\n",
    "下面範例中將使用**widgets.Text()**來建立使用者友善的輸入介面  \n",
    "\n",
    "撰寫格式如下，不同的設定之間會用**逗號**做分隔：  \n",
    "\n",
    "<pre>\n",
    "輸入文字元件的變數名稱 = widgets.Text(\n",
    "    value = 預設數值,\n",
    "    placeholder = 提示內容,\n",
    "    description = 輸入框前的文字,\n",
    "    disabled = 用True或False決定這個輸入文字框可不可以使用\n",
    ")\n",
    "</pre>\n",
    "\n",
    "+ 修改看看文字輸入元件的設定內容"
   ]
  },
  {
   "cell_type": "code",
   "execution_count": 0,
   "metadata": {
    "colab": {
     "referenced_widgets": [
      "0806514d84ce4717acc9e9be89bac5d7",
      "d6708780b4a544db89597e2560610805"
     ]
    },
    "colab_type": "code",
    "id": "mBYukE1gIlpi",
    "outputId": "6889f23a-6971-406c-e05b-0262ee326576"
   },
   "outputs": [
    {
     "data": {
      "application/vnd.jupyter.widget-view+json": {
       "model_id": "d6708780b4a544db89597e2560610805",
       "version_major": 2,
       "version_minor": 0
      },
      "text/plain": [
       "Text(value='Lisa', description='使用者名稱:', placeholder='請輸入你的名字')"
      ]
     },
     "metadata": {
      "tags": []
     },
     "output_type": "display_data"
    }
   ],
   "source": [
    "username = widgets.Text(\n",
    "    value='Lisa',\n",
    "    placeholder='請輸入你的名字',\n",
    "    description='使用者名稱:',\n",
    "    disabled=False\n",
    ")\n",
    "display(username)"
   ]
  },
  {
   "cell_type": "markdown",
   "metadata": {
    "colab_type": "text",
    "id": "AaJMaSljIlpn"
   },
   "source": [
    "==============  \n",
    "\n",
    "使用者輸入的資訊當然要好好使用囉！  \n",
    "上一段程式中，使用者輸入的內容儲存在username.value中  \n",
    "+ 試試看修改上一段程式中的使用者名稱"
   ]
  },
  {
   "cell_type": "code",
   "execution_count": 0,
   "metadata": {
    "colab": {},
    "colab_type": "code",
    "id": "2XiTt1TfIlpo",
    "outputId": "be22a166-5554-4f04-cf44-69f0401beadd",
    "scrolled": true
   },
   "outputs": [
    {
     "name": "stdout",
     "output_type": "stream",
     "text": [
      "歡迎 Lisa 來到新北市 Python 課程!\n"
     ]
    }
   ],
   "source": [
    "welcome_message = \"歡迎 {} 來到新北市 Python 課程!\".format(username.value)\n",
    "print(welcome_message)"
   ]
  },
  {
   "cell_type": "markdown",
   "metadata": {
    "colab_type": "text",
    "id": "jHMiyUVeIlpr"
   },
   "source": [
    "==============\n",
    "\n",
    "### 1-2 建立選單\n",
    "\n",
    "接下來要講解如何製作選單，預設一系列選項讓使用者快速選擇。  \n",
    "\n",
    "ipywidgets提供很多選單的類型：\n",
    "\n",
    "+ 下拉式選單(Dropdown)\n",
    "+ 單選按鈕(RadioButton)\n",
    "+ 滾動式選單(Select)\n",
    "+ 核取方塊(Checkbox)\n",
    "\n",
    "撰寫格式如下，不同的設定之間會用逗號做分隔：\n",
    "<pre>\n",
    "輸入文字元件的變數名稱 = widgets.選單類型(\n",
    "    options = [選項ㄧ,選項二,選項三],\n",
    "    value = 預設選項,\n",
    "    description = 選單前的文字,\n",
    "    disabled = 用True或False決定這個選單可不可以使用\n",
    ")\n",
    "</pre>"
   ]
  },
  {
   "cell_type": "code",
   "execution_count": 0,
   "metadata": {
    "colab": {
     "referenced_widgets": [
      "52d1083d4114444e828d2916c02e7554",
      "30047c81082b4b9ebf0feb3b032740fa"
     ]
    },
    "colab_type": "code",
    "id": "CaoAFG_mIlps",
    "outputId": "67d69786-3e25-4df8-db2e-fa111c38c3de"
   },
   "outputs": [
    {
     "data": {
      "application/vnd.jupyter.widget-view+json": {
       "model_id": "30047c81082b4b9ebf0feb3b032740fa",
       "version_major": 2,
       "version_minor": 0
      },
      "text/plain": [
       "Dropdown(description='早餐主食：', options=('原味蛋餅', '起司薯餅蛋餅', '肉蛋蔬菜總匯土司', '鮪魚蛋餅', '蜂蜜法式土司', '墨西哥煎雞堡', '麥克雞'), value…"
      ]
     },
     "metadata": {
      "tags": []
     },
     "output_type": "display_data"
    }
   ],
   "source": [
    "# Dropdown\n",
    "\n",
    "breakfast = widgets.Dropdown(\n",
    "    options=['原味蛋餅', '起司薯餅蛋餅', '肉蛋蔬菜總匯土司',\n",
    "            '鮪魚蛋餅', '蜂蜜法式土司', '墨西哥煎雞堡' , '麥克雞'],\n",
    "    value='原味蛋餅',\n",
    "    description='早餐主食：',\n",
    "    disabled=False,\n",
    ")\n",
    "display(breakfast)"
   ]
  },
  {
   "cell_type": "code",
   "execution_count": 0,
   "metadata": {
    "colab": {
     "referenced_widgets": [
      "c9db3ac51f144e2387d531128bb4a442",
      "856e69f6c5ec48149873307d89b62346"
     ]
    },
    "colab_type": "code",
    "id": "jx4Bhmv6Ilpv",
    "outputId": "7cbeada9-f133-4ff2-ef03-c258eb0ef2c2"
   },
   "outputs": [
    {
     "data": {
      "application/vnd.jupyter.widget-view+json": {
       "model_id": "856e69f6c5ec48149873307d89b62346",
       "version_major": 2,
       "version_minor": 0
      },
      "text/plain": [
       "RadioButtons(description='飲料：', options=('紅茶', '招牌奶茶', '鮮奶茶', '無糖綠茶', '鮮奶', '豆漿', '美式咖啡', '拿鐵'), value='紅茶')"
      ]
     },
     "metadata": {
      "tags": []
     },
     "output_type": "display_data"
    },
    {
     "name": "stdout",
     "output_type": "stream",
     "text": [
      "<class 'ipywidgets.widgets.widget_selection.RadioButtons'>\n",
      "您喜歡的飲料是紅茶\n"
     ]
    }
   ],
   "source": [
    "#RadioButtons 只能單選\n",
    "\n",
    "drink = widgets.RadioButtons(\n",
    "    options=['紅茶', '招牌奶茶', '鮮奶茶',\n",
    "            '無糖綠茶', '鮮奶', '豆漿', '美式咖啡','拿鐵'],\n",
    "    value='紅茶',\n",
    "    description='飲料：',\n",
    "    disabled=False,\n",
    ")\n",
    "display(drink)\n",
    "print (type(drink))\n",
    "print (\"您喜歡的飲料是\" + str(drink.value))"
   ]
  },
  {
   "cell_type": "code",
   "execution_count": 0,
   "metadata": {
    "colab": {
     "referenced_widgets": [
      "af6e402b92394488a1eafd137cace4e1",
      "bdf302c4bbbe4852baf7a66961da0086"
     ]
    },
    "colab_type": "code",
    "id": "wdp-xR85Ilpy",
    "outputId": "ab471670-72d8-4a9e-8f30-f6b643d1c67e"
   },
   "outputs": [
    {
     "data": {
      "application/vnd.jupyter.widget-view+json": {
       "model_id": "bdf302c4bbbe4852baf7a66961da0086",
       "version_major": 2,
       "version_minor": 0
      },
      "text/plain": [
       "Select(description='小點心：', options=('無', '薯餅', '小熱狗', '雞塊', '地瓜球', '碎蛋沙拉', '薯餅起司塔'), value='無')"
      ]
     },
     "metadata": {
      "tags": []
     },
     "output_type": "display_data"
    },
    {
     "name": "stdout",
     "output_type": "stream",
     "text": [
      "<class 'ipywidgets.widgets.widget_selection.Select'>\n",
      "您喜歡吃無\n"
     ]
    }
   ],
   "source": [
    "dessert = widgets.Select(\n",
    "    options=['無', '薯餅', '小熱狗', '雞塊',\n",
    "            '地瓜球', '碎蛋沙拉', '薯餅起司塔'],\n",
    "    #value='薯餅',\n",
    "    description='小點心：',\n",
    "    disabled=False,\n",
    ")\n",
    "display(dessert)\n",
    "print (type(dessert))\n",
    "print (\"您喜歡吃\"+ str(dessert.value))"
   ]
  },
  {
   "cell_type": "markdown",
   "metadata": {
    "colab_type": "text",
    "id": "YS3vGI_OIlp0"
   },
   "source": [
    "==============  \n",
    "\n",
    "訂單結算如下："
   ]
  },
  {
   "cell_type": "code",
   "execution_count": 0,
   "metadata": {
    "colab": {},
    "colab_type": "code",
    "id": "8iYSO7r9Ilp1",
    "outputId": "f33edf0b-6ec7-4779-ac36-ed6bafde4fd9"
   },
   "outputs": [
    {
     "name": "stdout",
     "output_type": "stream",
     "text": [
      "你的訂單如下：主食為原味蛋餅，飲料為紅茶，小點心是無! \n",
      "請耐心稍候片刻～\n"
     ]
    }
   ],
   "source": [
    "order = \"你的訂單如下：主食為{}，飲料為{}，小點心是{}! \".format(breakfast.value, drink.value, dessert.value)\n",
    "print(order)\n",
    "print(\"請耐心稍候片刻～\")"
   ]
  },
  {
   "cell_type": "markdown",
   "metadata": {
    "colab_type": "text",
    "id": "mkEN2a9TIlp3"
   },
   "source": [
    "==============  \n",
    "\n",
    "**Checkbox**比較特別，用於決定單一項目是否被勾選（True/False）。\n",
    "可以建立多個Checkbox，創造出複選的效果。\n",
    "<pre>\n",
    "撰寫格式如下，不同的設定之間會用逗號做分隔：\n",
    "\n",
    "輸入文字元件的變數名稱 = widgets.Checkbox(\n",
    "    value = 預設布林值（True/False）,\n",
    "    description = 該選項文字,\n",
    "    disabled = 用True或False決定這個選項可不可以使用\n",
    ")\n",
    "</pre>\n",
    "\n",
    "+ 下方範例中，點完餐店員會問帥哥/美女要內用還是外帶，根據不同的回覆做出不同應對"
   ]
  },
  {
   "cell_type": "code",
   "execution_count": 0,
   "metadata": {
    "colab": {
     "referenced_widgets": [
      "9f02b0316f5341ef9a6f0bb4efce19be",
      "444cacef2778482f9797948063456492"
     ]
    },
    "colab_type": "code",
    "id": "ajIkT-ETIlp4",
    "outputId": "0973bf05-6ec8-4c51-9389-a382cad5693f"
   },
   "outputs": [
    {
     "data": {
      "application/vnd.jupyter.widget-view+json": {
       "model_id": "444cacef2778482f9797948063456492",
       "version_major": 2,
       "version_minor": 0
      },
      "text/plain": [
       "Checkbox(value=False, description='餐點內用')"
      ]
     },
     "metadata": {
      "tags": []
     },
     "output_type": "display_data"
    }
   ],
   "source": [
    "yes_or_no = widgets.Checkbox(\n",
    "    #value = True,\n",
    "    description = \"餐點內用\",\n",
    "    disabled = False\n",
    ")\n",
    "display(yes_or_no)"
   ]
  },
  {
   "cell_type": "code",
   "execution_count": 0,
   "metadata": {
    "colab": {},
    "colab_type": "code",
    "id": "nDcv5n14Ilp7",
    "outputId": "b3c7e270-11c9-4929-c2fe-aaf697963bb4"
   },
   "outputs": [
    {
     "name": "stdout",
     "output_type": "stream",
     "text": [
      "False\n",
      "稍候片刻～\n"
     ]
    }
   ],
   "source": [
    "#True代表要內用, False則會進入else的情況，表示要外帶\n",
    "print (yes_or_no.value)\n",
    "if yes_or_no.value == True:\n",
    "    print(\"裡面坐唷！\")\n",
    "else:\n",
    "    print(\"稍候片刻～\")"
   ]
  },
  {
   "cell_type": "markdown",
   "metadata": {
    "colab_type": "text",
    "id": "eU0g3-IhIlp_"
   },
   "source": [
    "==============\n",
    "### 1-3 排版設計\n",
    "\n",
    "為了版面美觀，可以使用**VBox**使元件**垂直(Vertical)**排列，或是使用**HBox**使元件**水平(Horizontal)**排列\n",
    "\n",
    "撰寫格式如下，元件之間用逗號分隔：\n",
    "<pre>\n",
    "垂直排列元件的變數名稱 = widgets.VBox([元件一,元件二,元件三])\n",
    "水平排列元件的變數名稱 = widgets.HBox([元件一,元件二,元件三])\n",
    "</pre>\n",
    "\n",
    "+ 試著將上面提到的食物選單合併起來吧！"
   ]
  },
  {
   "cell_type": "code",
   "execution_count": 0,
   "metadata": {
    "colab": {},
    "colab_type": "code",
    "id": "Bp0nhzKYIlqB",
    "outputId": "8da99227-1d20-4059-89a9-592eef112db0"
   },
   "outputs": [
    {
     "data": {
      "application/vnd.jupyter.widget-view+json": {
       "model_id": "6280c267431d4778a617d65b601fb15f",
       "version_major": 2,
       "version_minor": 0
      },
      "text/plain": [
       "HBox(children=(Dropdown(description='早餐主食：', options=('原味蛋餅', '起司薯餅蛋餅', '肉蛋蔬菜總匯土司', '鮪魚蛋餅', '蜂蜜法式土司', '墨西哥煎雞堡'…"
      ]
     },
     "metadata": {
      "tags": []
     },
     "output_type": "display_data"
    }
   ],
   "source": [
    "#橫的菜單!!!\n",
    "order_H = widgets.HBox([breakfast, drink, dessert, yes_or_no])\n",
    "order_H"
   ]
  },
  {
   "cell_type": "code",
   "execution_count": 0,
   "metadata": {
    "colab": {},
    "colab_type": "code",
    "id": "YsJH5TdoIlqE",
    "outputId": "e0c07e61-9dd9-4bee-8913-06748986f7e3"
   },
   "outputs": [
    {
     "data": {
      "application/vnd.jupyter.widget-view+json": {
       "model_id": "80966297aa054fd09c4d98a904386835",
       "version_major": 2,
       "version_minor": 0
      },
      "text/plain": [
       "VBox(children=(Dropdown(description='早餐主食：', options=('原味蛋餅', '起司薯餅蛋餅', '肉蛋蔬菜總匯土司', '鮪魚蛋餅', '蜂蜜法式土司', '墨西哥煎雞堡'…"
      ]
     },
     "metadata": {
      "tags": []
     },
     "output_type": "display_data"
    }
   ],
   "source": [
    "#直的菜單!!!\n",
    "order_V = widgets.VBox([breakfast, drink, dessert])\n",
    "order_V"
   ]
  },
  {
   "cell_type": "markdown",
   "metadata": {
    "colab_type": "text",
    "id": "xHH2U_kJIlqH"
   },
   "source": [
    "==============  \n",
    "\n",
    "+ 進階挑戰：試著設計一個遊戲的登入介面，需要使用者輸入暱稱跟選擇職業\n",
    "\n",
    "==============  \n",
    "\n",
    "除了使用VBox/HBox排版之外，也可以使用**Tab元件**來做**分頁**。\n",
    "\n",
    "撰寫格式如下，元件之間用逗號分隔：\n",
    "\n",
    "<pre>\n",
    "分頁元件的變數名稱 = widgets.Tab([分頁一元件,分頁二元件,分頁三元件])\n",
    "</pre>\n",
    "可以使用**set_title(分頁編號,分頁標題文字)**來讓主題一目了然！\n"
   ]
  },
  {
   "cell_type": "code",
   "execution_count": 0,
   "metadata": {
    "colab": {},
    "colab_type": "code",
    "id": "ZV9ANXAsIlqI",
    "outputId": "25d22e78-5969-40cd-a367-2dfc8318de46"
   },
   "outputs": [
    {
     "data": {
      "application/vnd.jupyter.widget-view+json": {
       "model_id": "af9c8c17688745c98214718bb808b4fc",
       "version_major": 2,
       "version_minor": 0
      },
      "text/plain": [
       "Tab(children=(Dropdown(description='早餐主食：', options=('原味蛋餅', '起司薯餅蛋餅', '肉蛋蔬菜總匯土司', '鮪魚蛋餅', '蜂蜜法式土司', '墨西哥煎雞堡',…"
      ]
     },
     "metadata": {
      "tags": []
     },
     "output_type": "display_data"
    }
   ],
   "source": [
    "\n",
    "menu = widgets.Tab([breakfast,drink,dessert,yes_or_no]) \n",
    "menu.set_title(0,\"主食\")\n",
    "menu.set_title(1,\"飲料\")\n",
    "menu.set_title(2,\"小點心\")\n",
    "menu.set_title(3,\"外帶?\")\n",
    "menu"
   ]
  },
  {
   "cell_type": "markdown",
   "metadata": {
    "colab_type": "text",
    "id": "cZHDmXZhIlqM"
   },
   "source": [
    "==============  \n",
    "\n",
    "### 1-4 按鈕（Button）\n",
    "\n",
    "按鈕的撰寫格式如下：\n",
    "<pre>\n",
    "按鈕元件變數名稱 = widgets.Button(description = 按鈕上的文字)\n",
    "</pre>\n",
    "\n",
    "+ 下方範例為模仿駭客任務(Matrix)墨菲斯，順便複習怎麼定義函式\n",
    "\n",
    "可以使用widgets.Output()指定要print文字的內容  \n",
    "clear_ouput()可以清除Output元件上的文字"
   ]
  },
  {
   "cell_type": "code",
   "execution_count": 0,
   "metadata": {
    "colab": {},
    "colab_type": "code",
    "id": "38x3RgS1IlqO",
    "outputId": "bfee38a0-8a42-4cd1-b05a-80c0ba58f754"
   },
   "outputs": [
    {
     "data": {
      "application/vnd.jupyter.widget-view+json": {
       "model_id": "c93f12c437cf44199b6dc3173b7d0f26",
       "version_major": 2,
       "version_minor": 0
      },
      "text/plain": [
       "Button(description='紅色藥丸', style=ButtonStyle())"
      ]
     },
     "metadata": {
      "tags": []
     },
     "output_type": "display_data"
    },
    {
     "data": {
      "application/vnd.jupyter.widget-view+json": {
       "model_id": "8de71978e52d463083915abb9369ede3",
       "version_major": 2,
       "version_minor": 0
      },
      "text/plain": [
       "Button(description='藍色藥丸', style=ButtonStyle())"
      ]
     },
     "metadata": {
      "tags": []
     },
     "output_type": "display_data"
    },
    {
     "data": {
      "application/vnd.jupyter.widget-view+json": {
       "model_id": "440e2303c2f448e4af861a0438973d16",
       "version_major": 2,
       "version_minor": 0
      },
      "text/plain": [
       "Output()"
      ]
     },
     "metadata": {
      "tags": []
     },
     "output_type": "display_data"
    }
   ],
   "source": [
    "#建立元件\n",
    "button_red = widgets.Button(description=\"紅色藥丸\")\n",
    "button_blue = widgets.Button(description=\"藍色藥丸\")\n",
    "out = widgets.Output()\n",
    "\n",
    "#定義函式\n",
    "def on_button_red_clicked(_):\n",
    "      with out:\n",
    "          clear_output()\n",
    "          print(\"領你去看真相！\")\n",
    "def on_button_blue_clicked(_):\n",
    "      with out:\n",
    "          clear_output()\n",
    "          print(\"歡迎來到安逸的虛擬世界～\")\n",
    "            \n",
    "#設定按鈕被按下後會觸發的函式\n",
    "button_red.on_click(on_button_red_clicked)\n",
    "button_blue.on_click(on_button_blue_clicked)\n",
    "\n",
    "#排版並輸出\n",
    "#results = widgets.HBox([button_red,button_blue,out])\n",
    "#results\n",
    "display(button_red)\n",
    "display(button_blue)\n",
    "display(out)"
   ]
  },
  {
   "cell_type": "markdown",
   "metadata": {
    "colab_type": "text",
    "id": "2z6M1BpVIlqR"
   },
   "source": [
    "==============  \n",
    "\n",
    "### 1-5 其他的好用小工具\n",
    "\n",
    "有興趣更深入研究ipywidgets的人可以參考官方教學文件：https://ipywidgets.readthedocs.io/en/latest/#ipywidgets\n",
    "\n",
    "**DatePicker - 日期選取** \n",
    "<pre>\n",
    "日期選擇元件變數名稱 = widgets.DatePicker(\n",
    "    description = 標題文字\n",
    ")\n",
    "</pre>\n",
    "+ 範例：慶生"
   ]
  },
  {
   "cell_type": "code",
   "execution_count": 0,
   "metadata": {
    "colab": {
     "base_uri": "https://localhost:8080/",
     "height": 49,
     "referenced_widgets": [
      "18faa975f662490ab44b575ecee0032e",
      "8fb5757727ba4fe681842b1374e1ec4c",
      "23bab335b27c4ad8b96f562e1b24f7f6"
     ]
    },
    "colab_type": "code",
    "executionInfo": {
     "elapsed": 2429,
     "status": "ok",
     "timestamp": 1576305818705,
     "user": {
      "displayName": "曾吉弘",
      "photoUrl": "https://lh3.googleusercontent.com/a-/AAuE7mBFMudOvvUr9m20QjK1d4msAEfkGAgRo5nBGDLw=s64",
      "userId": "06313166903000840460"
     },
     "user_tz": -480
    },
    "id": "JEVCIz7XIlqS",
    "outputId": "be2ebe58-5f0d-42cc-d079-c81f3083c53e"
   },
   "outputs": [
    {
     "data": {
      "application/vnd.jupyter.widget-view+json": {
       "model_id": "dca9aef8cfc9457e92937c9af7115966",
       "version_major": 2,
       "version_minor": 0
      },
      "text/plain": [
       "DatePicker(value=None, description='你的生日')"
      ]
     },
     "metadata": {
      "tags": []
     },
     "output_type": "display_data"
    }
   ],
   "source": [
    "birthday = widgets.DatePicker(\n",
    "    description=\"你的生日\"\n",
    ")\n",
    "display(birthday)\n"
   ]
  },
  {
   "cell_type": "code",
   "execution_count": 0,
   "metadata": {
    "colab": {
     "base_uri": "https://localhost:8080/",
     "height": 36
    },
    "colab_type": "code",
    "executionInfo": {
     "elapsed": 1850,
     "status": "ok",
     "timestamp": 1576305868078,
     "user": {
      "displayName": "曾吉弘",
      "photoUrl": "https://lh3.googleusercontent.com/a-/AAuE7mBFMudOvvUr9m20QjK1d4msAEfkGAgRo5nBGDLw=s64",
      "userId": "06313166903000840460"
     },
     "user_tz": -480
    },
    "id": "JSDWF9lOIlqW",
    "outputId": "9525e17b-2f8d-4fc7-f05b-dda4642fec75"
   },
   "outputs": [
    {
     "name": "stdout",
     "output_type": "stream",
     "text": [
      "<class 'datetime.date'>\n",
      "<class 'int'>\n",
      "8\n",
      "<class 'int'>\n",
      "16\n",
      "我們 1982-08-16 去你家幫你慶生.\n"
     ]
    }
   ],
   "source": [
    "txt = \"我們 {} 去你家幫你慶生.\".format(birthday.value)\n",
    "print(type(birthday.value))\n",
    "\n",
    "print(type(birthday.value.month))\n",
    "print(birthday.value.month)\n",
    "print(type(birthday.value.day))\n",
    "print(birthday.value.day)\n",
    "print(txt)"
   ]
  },
  {
   "cell_type": "markdown",
   "metadata": {
    "colab_type": "text",
    "id": "OHr3V1lReInL"
   },
   "source": [
    "挑戰：請根據使用者的選擇結果來判斷星座"
   ]
  },
  {
   "cell_type": "markdown",
   "metadata": {
    "colab_type": "text",
    "id": "xonAmn_OIlqZ"
   },
   "source": [
    "==============  \n",
    "\n",
    "\n",
    "**IntSlider/FloatSlider - 數值滑桿** \n",
    "<pre>\n",
    "數值滑桿變數名稱 = widgets.widgets.IntSlider(\n",
    "    value=預設數值,\n",
    "    min=最小值,\n",
    "    max=最大值,\n",
    "    step=每一次增減的數值大小,\n",
    "    description=文字敘述,\n",
    "    disabled=決定是否啟用此元件,\n",
    "    continuous_update=決定是否持續更新,\n",
    "    orientation=用'horizontal'或是'vertical'決定滑桿是水平還是垂直方向\n",
    ")\n",
    "</pre>\n",
    "+ 範例：每月存錢目標"
   ]
  },
  {
   "cell_type": "code",
   "execution_count": 0,
   "metadata": {
    "colab": {
     "referenced_widgets": [
      "ef472d584ad0403a96053eec55c448ca",
      "2c9ebbc9e53e4c7cbfcd950f9a595112"
     ]
    },
    "colab_type": "code",
    "id": "mRfS958RIlqa",
    "outputId": "b8b47496-8705-4d25-bf2a-8657c6240d28"
   },
   "outputs": [
    {
     "data": {
      "application/vnd.jupyter.widget-view+json": {
       "model_id": "2c9ebbc9e53e4c7cbfcd950f9a595112",
       "version_major": 2,
       "version_minor": 0
      },
      "text/plain": [
       "IntSlider(value=1000, continuous_update=False, description='每月存錢目標：', max=10000, orientation='vertical')"
      ]
     },
     "metadata": {
      "tags": []
     },
     "output_type": "display_data"
    }
   ],
   "source": [
    "save_money = widgets.widgets.IntSlider(\n",
    "    value=1000,\n",
    "    min=0,\n",
    "    max=10000,\n",
    "    step=1,\n",
    "    description=\"每月存錢目標：\",\n",
    "    disabled=False,\n",
    "    continuous_update=False,\n",
    "    orientation=\"vertical\"\n",
    ")\n",
    "display(save_money)"
   ]
  },
  {
   "cell_type": "markdown",
   "metadata": {
    "colab_type": "text",
    "id": "Hzyy2-RbIlqf"
   },
   "source": [
    "==============  \n",
    "\n",
    "\n",
    "**Label - 標籤**\n",
    "<pre>\n",
    "標籤變數名稱 = widgets.Label(文字內容)\n",
    "</pre>\n",
    "+ 範例：修改上方程式"
   ]
  },
  {
   "cell_type": "code",
   "execution_count": 0,
   "metadata": {
    "colab": {
     "referenced_widgets": [
      "26619a1fa6ef4aa7b1afcde3c8a72e7a",
      "017ee9f1dab34e43ace13e0540fc0d76"
     ]
    },
    "colab_type": "code",
    "id": "ulWPhWtXIlqh",
    "outputId": "53243b8c-4c84-4468-b015-6134a250582c"
   },
   "outputs": [
    {
     "data": {
      "application/vnd.jupyter.widget-view+json": {
       "model_id": "017ee9f1dab34e43ace13e0540fc0d76",
       "version_major": 2,
       "version_minor": 0
      },
      "text/plain": [
       "VBox(children=(Label(value='每月存錢目標'), IntSlider(value=1000, continuous_update=False, max=10000, step=1000)))"
      ]
     },
     "metadata": {
      "tags": []
     },
     "output_type": "display_data"
    }
   ],
   "source": [
    "save_money = widgets.widgets.IntSlider(\n",
    "    value=1000,\n",
    "    min=0,\n",
    "    max=10000,\n",
    "    step=1000,\n",
    "    disabled=False,\n",
    "    continuous_update=False,\n",
    "    orientation=\"horizontal\"\n",
    ")\n",
    "txt = widgets.Label(\"每月存錢目標\")\n",
    "results = widgets.VBox([txt,save_money])\n",
    "results"
   ]
  },
  {
   "cell_type": "markdown",
   "metadata": {
    "colab_type": "text",
    "id": "j1erCz6iIlqo"
   },
   "source": [
    "==============  \n",
    "\n",
    "### 2.  認識清單(List)跟字典(Dictionary)  \n",
    "  \n",
    "<pre>  \n",
    "\n",
    "</pre>\n",
    "**List清單**的撰寫格式如下，不同項目用逗號分隔：\n",
    "<pre>\n",
    "清單變數名稱 = [清單元素一,清單元素二,....] \n",
    "</pre>\n",
    "\n",
    "+ 試著建立一個清單"
   ]
  },
  {
   "cell_type": "code",
   "execution_count": 0,
   "metadata": {
    "colab": {},
    "colab_type": "code",
    "id": "Md0RHyhhIlqo"
   },
   "outputs": [],
   "source": [
    "myColor = [\"red\",\"blue\",\"white\",\"violet\",\"black\",\"yellow\"] #維度1"
   ]
  },
  {
   "cell_type": "markdown",
   "metadata": {
    "colab_type": "text",
    "id": "ZWWsqckOeInb"
   },
   "source": [
    "二維清單"
   ]
  },
  {
   "cell_type": "code",
   "execution_count": 0,
   "metadata": {
    "colab": {},
    "colab_type": "code",
    "id": "e2nPEHH2eInc",
    "outputId": "5773a2f9-8213-43a9-a2f1-daed399c5c88"
   },
   "outputs": [
    {
     "name": "stdout",
     "output_type": "stream",
     "text": [
      "[[1, 2, 3], [4, 5, 6], [7, 8, 9]]\n"
     ]
    },
    {
     "data": {
      "text/plain": [
       "3"
      ]
     },
     "execution_count": 51,
     "metadata": {
      "tags": []
     },
     "output_type": "execute_result"
    }
   ],
   "source": [
    "test = [[1,2,3], [4,5,6], [7,8,9]] #維度2\n",
    "print(test)\n",
    "test[0][2]"
   ]
  },
  {
   "cell_type": "markdown",
   "metadata": {
    "colab_type": "text",
    "id": "FOZo7YkeIlqr"
   },
   "source": [
    "==============   \n",
    "\n",
    "### 2-1 呼叫清單中的元素\n",
    "\n",
    "<pre>\n",
    "清單名稱[index編號]\n",
    "</pre>\n",
    "\n",
    "+ 注意，Python中index是從0開始"
   ]
  },
  {
   "cell_type": "code",
   "execution_count": 0,
   "metadata": {
    "colab": {},
    "colab_type": "code",
    "id": "oH3HjQ1CIlqs",
    "outputId": "fa449867-07ab-495c-ff6a-d03a2cfb41a9"
   },
   "outputs": [
    {
     "data": {
      "text/plain": [
       "'red'"
      ]
     },
     "execution_count": 64,
     "metadata": {
      "tags": []
     },
     "output_type": "execute_result"
    }
   ],
   "source": [
    "myColor[0]"
   ]
  },
  {
   "cell_type": "code",
   "execution_count": 0,
   "metadata": {
    "colab": {},
    "colab_type": "code",
    "id": "yA0zU3wBIlqv",
    "outputId": "4aba51d4-9707-4116-ed2d-c576ab5ef0e0"
   },
   "outputs": [
    {
     "name": "stdout",
     "output_type": "stream",
     "text": [
      "My favorite Color is red\n"
     ]
    }
   ],
   "source": [
    "print(\"My favorite Color is \" + myColor[0])"
   ]
  },
  {
   "cell_type": "markdown",
   "metadata": {
    "colab_type": "text",
    "id": "ZgQ2lJaVIlqx"
   },
   "source": [
    "==============   \n",
    "\n",
    "### 2-2 使用sorted()將清單中的元素排序\n",
    "\n",
    "數字會由小排到大，英文則是用字首排a~z"
   ]
  },
  {
   "cell_type": "code",
   "execution_count": 0,
   "metadata": {
    "colab": {},
    "colab_type": "code",
    "id": "F49U_dxHIlqy",
    "outputId": "cd3dfe9f-44e1-4558-c666-5fc02080529d"
   },
   "outputs": [
    {
     "name": "stdout",
     "output_type": "stream",
     "text": [
      "原始順序\n",
      "['red', 'blue', 'white', 'violet', 'black', 'yellow']\n",
      "新順序\n",
      "['black', 'blue', 'red', 'violet', 'white', 'yellow']\n",
      "[1, 56, 7, -3, 6, 78, 231]\n",
      "[-3, 1, 6, 7, 56, 78, 231]\n"
     ]
    }
   ],
   "source": [
    "sorted_color = sorted(myColor)\n",
    "print(\"原始順序\")\n",
    "print(myColor)\n",
    "print(\"新順序\")\n",
    "print(sorted_color)\n",
    "\n",
    "#數值清單\n",
    "x = [1, 56 ,7, -3, 6 , 78, 231]\n",
    "x_ = sorted(x)\n",
    "print (x)\n",
    "print (x_)"
   ]
  },
  {
   "cell_type": "markdown",
   "metadata": {
    "colab_type": "text",
    "id": "HeM_YcHJeIns"
   },
   "source": [
    "快速初始化為純零 list 或隨機整數/浮點數 list"
   ]
  },
  {
   "cell_type": "code",
   "execution_count": 0,
   "metadata": {
    "colab": {},
    "colab_type": "code",
    "id": "ImM0r93_eInt",
    "outputId": "959ea511-78ac-46e3-a6a2-442746ea9ebf"
   },
   "outputs": [
    {
     "name": "stdout",
     "output_type": "stream",
     "text": [
      "[0 0 0 0 0 0 0 0 0 0]\n",
      "[0. 0. 0. 0. 0. 0. 0. 0. 0. 0.]\n",
      "[88, 20, 78, 13, 90, 0, 29, 85, 93, 68]\n"
     ]
    }
   ],
   "source": [
    "import numpy as np\n",
    "import random\n",
    "x = np.zeros(10, dtype = np.int)\n",
    "print(x)\n",
    "x = np.zeros(6, dtype = np.float)\n",
    "print(y)\n",
    "z = [random.randint(0,100) for _ in range(10)]\n",
    "print(z)"
   ]
  },
  {
   "cell_type": "markdown",
   "metadata": {
    "colab_type": "text",
    "id": "fkpdQHsCIlq0"
   },
   "source": [
    "==============   \n",
    "\n",
    "### 2-3 使用remove()將清單中不要的元素移除\n",
    "\n",
    "可以選擇**指定要移除的項目**，或是**指定要移除指定index的項目**\n"
   ]
  },
  {
   "cell_type": "code",
   "execution_count": 0,
   "metadata": {
    "colab": {},
    "colab_type": "code",
    "id": "32XaECpXIlq1",
    "outputId": "192429b8-9977-48a1-b283-7ce43d21b555"
   },
   "outputs": [
    {
     "name": "stdout",
     "output_type": "stream",
     "text": [
      "['red', 'blue', 'white', 'violet', 'black', 'yellow']\n",
      "['red', 'blue', 'violet', 'black', 'yellow']\n"
     ]
    }
   ],
   "source": [
    "print(myColor)\n",
    "myColor.remove(\"white\")\n",
    "print(myColor)"
   ]
  },
  {
   "cell_type": "code",
   "execution_count": 0,
   "metadata": {
    "colab": {},
    "colab_type": "code",
    "id": "7oLwNaCPIlq4",
    "outputId": "686364fc-8ee8-4c35-e811-be91a824b1ca"
   },
   "outputs": [
    {
     "name": "stdout",
     "output_type": "stream",
     "text": [
      "['red', 'blue', 'violet', 'black', 'yellow']\n",
      "['red', 'blue', 'violet', 'yellow']\n",
      "4\n"
     ]
    }
   ],
   "source": [
    "print(myColor)\n",
    "myColor.remove(myColor[3])\n",
    "print(myColor)\n",
    "print(len(myColor))"
   ]
  },
  {
   "cell_type": "markdown",
   "metadata": {
    "colab_type": "text",
    "id": "t3evEeG8Ilq6"
   },
   "source": [
    "==============   \n",
    "\n",
    "### 2-4 使用append()新增元素到清單尾端\n",
    "\n"
   ]
  },
  {
   "cell_type": "code",
   "execution_count": 0,
   "metadata": {
    "colab": {},
    "colab_type": "code",
    "id": "CcoN7JtUIlq7",
    "outputId": "ab6c1fdc-691e-4d11-8d55-8aef81b5c290"
   },
   "outputs": [
    {
     "name": "stdout",
     "output_type": "stream",
     "text": [
      "['red', 'blue', 'violet', 'yellow']\n",
      "['red', 'blue', 'violet', 'yellow', 'green']\n"
     ]
    }
   ],
   "source": [
    "print(myColor)\n",
    "myColor.append(\"green\")\n",
    "print(myColor)"
   ]
  },
  {
   "cell_type": "markdown",
   "metadata": {
    "colab_type": "text",
    "id": "nQVnZjw-L8o_"
   },
   "source": [
    "補充說明：pop() 將會移除 list 中最後的項目並回傳它。"
   ]
  },
  {
   "cell_type": "code",
   "execution_count": 0,
   "metadata": {
    "colab": {
     "base_uri": "https://localhost:8080/",
     "height": 55
    },
    "colab_type": "code",
    "executionInfo": {
     "elapsed": 1095,
     "status": "ok",
     "timestamp": 1576306393366,
     "user": {
      "displayName": "曾吉弘",
      "photoUrl": "https://lh3.googleusercontent.com/a-/AAuE7mBFMudOvvUr9m20QjK1d4msAEfkGAgRo5nBGDLw=s64",
      "userId": "06313166903000840460"
     },
     "user_tz": -480
    },
    "id": "2HQOORy7LiuT",
    "outputId": "86ed75e1-8b2f-479c-97f7-9efdba2fde6b"
   },
   "outputs": [
    {
     "name": "stdout",
     "output_type": "stream",
     "text": [
      "['red', 'blue', 'white', 'violet', 'black', 'yellow']\n",
      "['red', 'blue', 'white', 'violet', 'black']\n"
     ]
    }
   ],
   "source": [
    "myColor = [\"red\",\"blue\",\"white\",\"violet\",\"black\",\"yellow\"] \n",
    "print(myColor)\n",
    "myColor.pop()\n",
    "print(myColor)"
   ]
  },
  {
   "cell_type": "markdown",
   "metadata": {
    "colab_type": "text",
    "id": "FahBJx5WNNeU"
   },
   "source": [
    "## 補充說明：將 List 作為 Stack（堆疊）使用\n",
    "*   List 的操作方法使得它非常簡單可以用來實作 stack（堆疊）。Stack 代表規則為最後加入元素最先被取回（後進先出，\"last-in, first-out\"）的資料結構。\n",
    "*   請想像 stack 就是放在地板上由下往上堆，第一個就是碰到地板，最後一個在最高處。\n",
    "*   使用 append() 方法將一個項目放到堆疊的頂層。而使用 pop() 方法且不給定索引值去取得堆疊最上面的項目。舉例而言：\n",
    "\n"
   ]
  },
  {
   "cell_type": "code",
   "execution_count": 0,
   "metadata": {
    "colab": {
     "base_uri": "https://localhost:8080/",
     "height": 36
    },
    "colab_type": "code",
    "executionInfo": {
     "elapsed": 1089,
     "status": "ok",
     "timestamp": 1576307282730,
     "user": {
      "displayName": "曾吉弘",
      "photoUrl": "https://lh3.googleusercontent.com/a-/AAuE7mBFMudOvvUr9m20QjK1d4msAEfkGAgRo5nBGDLw=s64",
      "userId": "06313166903000840460"
     },
     "user_tz": -480
    },
    "id": "jdwDhlnWNNqJ",
    "outputId": "97993d8b-6713-47f1-e415-7e978ec87d35"
   },
   "outputs": [
    {
     "name": "stdout",
     "output_type": "stream",
     "text": [
      "[3, 4, 5, 6, 7]\n",
      "[3, 4, 5, 6]\n",
      "[3, 4]\n"
     ]
    }
   ],
   "source": [
    "stack = [3, 4, 5]\n",
    "stack.append(6)\n",
    "stack.append(7)\n",
    "print(stack)\n",
    "\n",
    "stack.pop()\n",
    "print(stack)\n",
    "\n",
    "stack.pop()\n",
    "stack.pop()\n",
    "print(stack)"
   ]
  },
  {
   "cell_type": "markdown",
   "metadata": {
    "colab_type": "text",
    "id": "HHLU94VwNmK0"
   },
   "source": [
    "## 補充說明：將 List 作為 Queue（佇列）使用\n",
    "*   list 也可以當作 queue（佇列）使用，即最先加入元素最先被取回（先進先出，\"first-in, first-out\"）的資料結構。\n",
    "*   然而，list 在這種使用方式下效率較差。使用 append 和 pop 來加入和取出尾端的元素較快，而使用 insert 和 pop 來插入和取出頭端的元素較慢（因為其他元素都需要挪動一格）。\n",
    "*   如果要實作 queue，請使用 collections.deque ，其被設計成能快速的從頭尾兩端加入和取出。例如：\n",
    "\n"
   ]
  },
  {
   "cell_type": "code",
   "execution_count": 0,
   "metadata": {
    "colab": {
     "base_uri": "https://localhost:8080/",
     "height": 55
    },
    "colab_type": "code",
    "executionInfo": {
     "elapsed": 1290,
     "status": "ok",
     "timestamp": 1576307181899,
     "user": {
      "displayName": "曾吉弘",
      "photoUrl": "https://lh3.googleusercontent.com/a-/AAuE7mBFMudOvvUr9m20QjK1d4msAEfkGAgRo5nBGDLw=s64",
      "userId": "06313166903000840460"
     },
     "user_tz": -480
    },
    "id": "Ripi9L4vN--g",
    "outputId": "77beb856-5507-45d7-9a5f-0e8c9de3c72e"
   },
   "outputs": [
    {
     "name": "stdout",
     "output_type": "stream",
     "text": [
      "deque(['Eric', 'John', 'Michael', 'Terry', 'Graham'])\n"
     ]
    },
    {
     "data": {
      "text/plain": [
       "deque(['Michael', 'Terry', 'Graham'])"
      ]
     },
     "execution_count": 12,
     "metadata": {
      "tags": []
     },
     "output_type": "execute_result"
    }
   ],
   "source": [
    "from collections import deque\n",
    "queue = deque([\"Eric\", \"John\", \"Michael\"])\n",
    "queue.append(\"Terry\")           # Terry arrives\n",
    "queue.append(\"Graham\")          # Graham arrives\n",
    "print(queue)\n",
    "\n",
    "queue.popleft()                 # The first to arrive now leaves\n",
    "queue.popleft()                 # The second to arrive now leaves\n",
    "queue                           # Remaining queue in order of arrival"
   ]
  },
  {
   "cell_type": "markdown",
   "metadata": {
    "colab_type": "text",
    "id": "x8JGnm2ZIlq9"
   },
   "source": [
    "==============\n",
    "\n",
    "### 2-5 Dictionary 字典 \n",
    "\n",
    "**Dictionary字典**的每一個元素都由**鍵 (key) 和值 (value)**構成，結構為**key: value**。不同的元素之間會以逗號分隔，並且以大括號{}圍住。\n",
    "\n",
    "撰寫格式如下：\n",
    "\n",
    "<pre>\n",
    "字典變數名稱 = {key1:value1,key2:value2,....} \n",
    "</pre>\n",
    "\n",
    "+ 試著建立一個英翻中的字典"
   ]
  },
  {
   "cell_type": "code",
   "execution_count": 0,
   "metadata": {
    "colab": {},
    "colab_type": "code",
    "id": "vpyRa_P0Ilq-"
   },
   "outputs": [],
   "source": [
    "Chinese_dic={\"Monday\":\"星期一\",\n",
    "             \"Tueday\":\"星期二\",\n",
    "             \"Wednesday\":\"星期三\",\n",
    "             \"Thrusday\":\"星期四\",\n",
    "             \"Friday\":\"星期五\",\n",
    "             \"Saturday\":\"星期六\",\n",
    "             \"Sunday\":\"星期日\"\n",
    "            }"
   ]
  },
  {
   "cell_type": "markdown",
   "metadata": {
    "colab_type": "text",
    "id": "ixvk1t_sIlrB"
   },
   "source": [
    "==============\n",
    "\n",
    "+ 試著用不同的key來查字典吧！"
   ]
  },
  {
   "cell_type": "code",
   "execution_count": 0,
   "metadata": {
    "colab": {
     "base_uri": "https://localhost:8080/",
     "height": 36
    },
    "colab_type": "code",
    "executionInfo": {
     "elapsed": 1036,
     "status": "ok",
     "timestamp": 1576307379589,
     "user": {
      "displayName": "曾吉弘",
      "photoUrl": "https://lh3.googleusercontent.com/a-/AAuE7mBFMudOvvUr9m20QjK1d4msAEfkGAgRo5nBGDLw=s64",
      "userId": "06313166903000840460"
     },
     "user_tz": -480
    },
    "id": "ESz-p8bXIlrD",
    "outputId": "7ac4275f-7342-42fd-9a63-d30466dfa8cc"
   },
   "outputs": [
    {
     "name": "stdout",
     "output_type": "stream",
     "text": [
      "星期五\n"
     ]
    }
   ],
   "source": [
    "print(Chinese_dic[\"Friday\"])"
   ]
  },
  {
   "cell_type": "code",
   "execution_count": 0,
   "metadata": {
    "colab": {},
    "colab_type": "code",
    "id": "Kz8A2bfkIlrG"
   },
   "outputs": [],
   "source": [
    "Japanese_dic={\"Monday\":\"月曜日\",\n",
    "             \"Tueday\":\"火曜日\",\n",
    "             \"Wednesday\":\"水曜日\",\n",
    "             \"Thrusday\":\"木曜日\",\n",
    "             \"Friday\":\"金曜日\",\n",
    "             \"Saturday\":\"土曜日\",\n",
    "             \"Sunday\":\"日曜日\"\n",
    "            }"
   ]
  },
  {
   "cell_type": "markdown",
   "metadata": {
    "colab_type": "text",
    "id": "5wW1TjOsIlrQ"
   },
   "source": [
    "==============  \n",
    "\n",
    "+ 同樣的key在不同字典中查到的結果(也就是value)不一樣唷！"
   ]
  },
  {
   "cell_type": "code",
   "execution_count": 0,
   "metadata": {
    "colab": {
     "base_uri": "https://localhost:8080/",
     "height": 55
    },
    "colab_type": "code",
    "executionInfo": {
     "elapsed": 767,
     "status": "ok",
     "timestamp": 1576307380577,
     "user": {
      "displayName": "曾吉弘",
      "photoUrl": "https://lh3.googleusercontent.com/a-/AAuE7mBFMudOvvUr9m20QjK1d4msAEfkGAgRo5nBGDLw=s64",
      "userId": "06313166903000840460"
     },
     "user_tz": -480
    },
    "id": "D_0BdzPDIlrR",
    "outputId": "7cdc9cf0-cc6c-4477-9aff-a8424dcef7be"
   },
   "outputs": [
    {
     "name": "stdout",
     "output_type": "stream",
     "text": [
      "星期一\n",
      "月曜日\n"
     ]
    }
   ],
   "source": [
    "print(Chinese_dic[\"Monday\"])\n",
    "print(Japanese_dic[\"Monday\"])"
   ]
  },
  {
   "cell_type": "markdown",
   "metadata": {
    "colab_type": "text",
    "id": "RZHVbqLFIlrT"
   },
   "source": [
    "==============  \n",
    "\n",
    "### 3.  撰寫小遊戲  \n",
    "  \n",
    "+ 讓我們來結合前面所學，撰寫一個小遊戲-Blackjack/21點吧！\n",
    "\n",
    "Blackjack 21點是跟莊家比賽誰的牌總點數比較大的遊戲，今日的遊戲設計簡化為以下幾條規則：\n",
    "\n",
    "1. 擁有最高點數的玩家獲勝，其點數必須等于或低於21點，超過21點的玩家稱為爆牌\n",
    "2. 2點至10點的牌以牌面的點數計算，J、Q、K 每張為10點，A可以是1或是11點\n",
    "3. 莊家跟玩家都先發兩張牌\n",
    "4. 玩家在獲得兩張牌之後，可以選擇要結束這回合還是加牌\n",
    "5. 玩家在喊結束之前，只看得到莊家的第一張牌\n",
    "\n",
    "更多資訊：https://zh.wikipedia.org/wiki/二十一點\n",
    "\n",
    "### 3-1 匯入random函式庫\n",
    "用於隨機發牌"
   ]
  },
  {
   "cell_type": "code",
   "execution_count": 0,
   "metadata": {
    "colab": {},
    "colab_type": "code",
    "id": "UzbbMhS1IlrU"
   },
   "outputs": [],
   "source": [
    "import random"
   ]
  },
  {
   "cell_type": "markdown",
   "metadata": {
    "colab_type": "text",
    "id": "1kYfl_KCIlrW"
   },
   "source": [
    "### 3-2 建立撲克牌及對應點數的清單"
   ]
  },
  {
   "cell_type": "code",
   "execution_count": 0,
   "metadata": {
    "colab": {},
    "colab_type": "code",
    "id": "i4ZwrTd_IlrX"
   },
   "outputs": [],
   "source": [
    "Poker_card = ['A','2','3','4','5','6','7','8','9','10','J','Q','K']\n",
    "credit =     [ 1 , 2 , 3 , 4 , 5 , 6 , 7 , 8 , 9 , 10 , 10, 10, 10]"
   ]
  },
  {
   "cell_type": "markdown",
   "metadata": {
    "colab_type": "text",
    "id": "eDs0CwhdIlrY"
   },
   "source": [
    "### 3-3 建立儲存莊家/玩家牌的空清單"
   ]
  },
  {
   "cell_type": "code",
   "execution_count": 0,
   "metadata": {
    "colab": {},
    "colab_type": "code",
    "id": "0r0FNTurIlrZ"
   },
   "outputs": [],
   "source": [
    "##儲存牌的種類\n",
    "Banker = []\n",
    "Player = []"
   ]
  },
  {
   "cell_type": "markdown",
   "metadata": {
    "colab_type": "text",
    "id": "6aQ5s7AiIlrb"
   },
   "source": [
    "### 3-4 建立顯示手牌的函式"
   ]
  },
  {
   "cell_type": "code",
   "execution_count": 0,
   "metadata": {
    "colab": {},
    "colab_type": "code",
    "id": "mj8tNY1uIlrc"
   },
   "outputs": [],
   "source": [
    "def show_now(Banker,Player):\n",
    "    print(\"\\n####\\n\")\n",
    "    Banker_str=\"\"\n",
    "    for i in range(len(Banker)):\n",
    "        Banker_str = Banker_str + Banker[i] + \" \"\n",
    "    print(\"莊家： \" + Banker_str)\n",
    "    Player_str=\"\"\n",
    "    for i in range(len(Player)):\n",
    "        Player_str=Player_str+Player[i]+\" \"\n",
    "    print(\"玩家： \"+Player_str)"
   ]
  },
  {
   "cell_type": "markdown",
   "metadata": {
    "colab_type": "text",
    "id": "R4OUyS9ZIlre"
   },
   "source": [
    "### 3-5 建立發牌的函式  \n",
    "\n",
    "使用random.randint(min,max)來產生隨機整數"
   ]
  },
  {
   "cell_type": "code",
   "execution_count": 0,
   "metadata": {
    "colab": {},
    "colab_type": "code",
    "id": "N0s33s1UIlre"
   },
   "outputs": [],
   "source": [
    "def Player_deal():\n",
    "    index = random.randint(0, len(Poker_card)-1) #0 - 12\n",
    "    Player.append(Poker_card[index]) #從Poker_card[]中取 index 號並加入 Player 中\n",
    "\n",
    "def Banker_deal():\n",
    "    if len(Banker) == 1:\n",
    "        Banker.append(\"X\")\n",
    "    else:\n",
    "        index = random.randint(0,len(Poker_card)-1) \n",
    "        Banker.append(Poker_card[index])"
   ]
  },
  {
   "cell_type": "markdown",
   "metadata": {
    "colab_type": "text",
    "id": "UwBzehdCIlrg"
   },
   "source": [
    "### 3-6 建立算牌函式"
   ]
  },
  {
   "cell_type": "code",
   "execution_count": 0,
   "metadata": {
    "colab": {},
    "colab_type": "code",
    "id": "mJHnwodvIlrh"
   },
   "outputs": [],
   "source": [
    "def Count(cards_list):\n",
    "    total = 0\n",
    "    for i in range(len(cards_list)):\n",
    "        for j in range(len(Poker_card)):\n",
    "            if cards_list[i]==Poker_card[j]: #玩家或莊家有這張牌\n",
    "                total += credit[j]\n",
    "                break\n",
    "    \n",
    "    #如果有A看要不要使用\n",
    "    for i in range(len(cards_list)):\n",
    "        if cards_list[i]=='A' and total<=11: #檢查有沒有'A'以及加入後會不會爆牌\n",
    "            total+=10\n",
    "    return total"
   ]
  },
  {
   "cell_type": "markdown",
   "metadata": {
    "colab_type": "text",
    "id": "pr-i9PXeIlrj"
   },
   "source": [
    "### 3-7 主程式撰寫"
   ]
  },
  {
   "cell_type": "code",
   "execution_count": 0,
   "metadata": {
    "colab": {
     "base_uri": "https://localhost:8080/",
     "height": 391
    },
    "colab_type": "code",
    "executionInfo": {
     "elapsed": 24289,
     "status": "ok",
     "timestamp": 1576309405789,
     "user": {
      "displayName": "曾吉弘",
      "photoUrl": "https://lh3.googleusercontent.com/a-/AAuE7mBFMudOvvUr9m20QjK1d4msAEfkGAgRo5nBGDLw=s64",
      "userId": "06313166903000840460"
     },
     "user_tz": -480
    },
    "id": "aiFysuojIlrl",
    "outputId": "82d0de36-906f-4851-9921-5944260324dd"
   },
   "outputs": [
    {
     "name": "stdout",
     "output_type": "stream",
     "text": [
      "\n",
      "-------決勝21點-------\n",
      "\n",
      "\n",
      "####\n",
      "\n",
      "莊家： A \n",
      "玩家： 6 \n",
      "\n",
      "####\n",
      "\n",
      "莊家： A X \n",
      "玩家： 6 6 \n",
      "1.加牌 2.結束這回合：1\n",
      "\n",
      "####\n",
      "\n",
      "莊家： A X \n",
      "玩家： 6 6 3 \n",
      "1.加牌 2.結束這回合：1\n",
      "\n",
      "####\n",
      "\n",
      "莊家： A X \n",
      "玩家： 6 6 3 J \n",
      "1.加牌 2.結束這回合：2\n"
     ]
    }
   ],
   "source": [
    "print(\"\\n-------決勝21點-------\\n\")\n",
    "\n",
    "#各發第一張牌\n",
    "Player_deal()\n",
    "Banker_deal()\n",
    "show_now(Banker,Player)\n",
    "\n",
    "#各發第二張牌\n",
    "Player_deal()\n",
    "Banker_deal()\n",
    "show_now(Banker,Player)\n",
    "\n",
    "#讓玩家決定要加牌還是結束回合\n",
    "while True:\n",
    "    ans = input(\"1.加牌 2.結束這回合：\")\n",
    "    if ans==\"2\":\n",
    "        break\n",
    "    elif ans==\"1\":\n",
    "        Player_deal()\n",
    "        show_now(Banker,Player)\n",
    "        "
   ]
  },
  {
   "cell_type": "markdown",
   "metadata": {
    "colab_type": "text",
    "id": "55tKnQo_Ilrn"
   },
   "source": [
    "### 3-8 計算結果並顯示"
   ]
  },
  {
   "cell_type": "code",
   "execution_count": 0,
   "metadata": {
    "colab": {
     "base_uri": "https://localhost:8080/",
     "height": 316
    },
    "colab_type": "code",
    "executionInfo": {
     "elapsed": 1629,
     "status": "ok",
     "timestamp": 1576309413994,
     "user": {
      "displayName": "曾吉弘",
      "photoUrl": "https://lh3.googleusercontent.com/a-/AAuE7mBFMudOvvUr9m20QjK1d4msAEfkGAgRo5nBGDLw=s64",
      "userId": "06313166903000840460"
     },
     "user_tz": -480
    },
    "id": "XrkskXYMIlrp",
    "outputId": "2c7155a0-fd1e-4916-b4a8-4471810e68a4"
   },
   "outputs": [
    {
     "name": "stdout",
     "output_type": "stream",
     "text": [
      "\n",
      "####\n",
      "\n",
      "\n",
      "####\n",
      "\n",
      "莊家： A 6 \n",
      "玩家： 6 6 3 J \n",
      "\n",
      "####\n",
      "\n",
      "莊家：17 vs 玩家：25\n",
      "\n",
      "####\n",
      "\n",
      "玩家爆牌，莊家勝\n"
     ]
    }
   ],
   "source": [
    "##顯示莊家及玩家點數\n",
    "print(\"\\n####\\n\")\n",
    "Banker_deal()\n",
    "Banker.remove(\"X\")\n",
    "show_now(Banker,Player)\n",
    "print(\"\\n####\\n\")\n",
    "print(\"莊家：\"+str(Count(Banker))+\" vs 玩家：\"+str(Count(Player)))\n",
    "print(\"\\n####\\n\")\n",
    "\n",
    "##公布輸贏\n",
    "if Count(Player)>21:\n",
    "    print(\"玩家爆牌，莊家勝\")\n",
    "elif Count(Banker)>21:\n",
    "    print(\"莊家爆牌，玩家勝\")\n",
    "elif Count(Player)<Count(Banker):\n",
    "    print(\"莊家勝\")\n",
    "else:\n",
    "    print(\"玩家勝\")"
   ]
  },
  {
   "cell_type": "markdown",
   "metadata": {
    "colab_type": "text",
    "id": "oTtRaqHyIlrr"
   },
   "source": [
    "### 完整程式合併後如下\n",
    "+ 玩玩看吧！"
   ]
  },
  {
   "cell_type": "code",
   "execution_count": 0,
   "metadata": {
    "colab": {
     "base_uri": "https://localhost:8080/",
     "height": 577
    },
    "colab_type": "code",
    "executionInfo": {
     "elapsed": 5863,
     "status": "ok",
     "timestamp": 1576309430824,
     "user": {
      "displayName": "曾吉弘",
      "photoUrl": "https://lh3.googleusercontent.com/a-/AAuE7mBFMudOvvUr9m20QjK1d4msAEfkGAgRo5nBGDLw=s64",
      "userId": "06313166903000840460"
     },
     "user_tz": -480
    },
    "id": "hZxrg2u5Ilrs",
    "outputId": "1da9fa4a-19ff-4d17-e92b-8a8d4bb57e59"
   },
   "outputs": [
    {
     "name": "stdout",
     "output_type": "stream",
     "text": [
      "\n",
      "-------決勝21點-------\n",
      "\n",
      "\n",
      "####\n",
      "\n",
      "莊家： 2 \n",
      "玩家： 3 \n",
      "\n",
      "####\n",
      "\n",
      "莊家： 2 X \n",
      "玩家： 3 A \n",
      "1.加牌 2.結束這回合：1\n",
      "\n",
      "####\n",
      "\n",
      "莊家： 2 X \n",
      "玩家： 3 A 8 \n",
      "1.加牌 2.結束這回合：2\n",
      "\n",
      "####\n",
      "\n",
      "\n",
      "####\n",
      "\n",
      "莊家： 2 5 \n",
      "玩家： 3 A 8 \n",
      "\n",
      "####\n",
      "\n",
      "莊家：7 vs 玩家：12\n",
      "\n",
      "####\n",
      "\n",
      "玩家勝\n"
     ]
    }
   ],
   "source": [
    "##匯入random函式庫\n",
    "import random\n",
    "\n",
    "##建立撲克牌及對應點數的清單\n",
    "Poker_card = ['A','2','3','4','5','6','7','8','9','10','J','Q','K']\n",
    "credit =     [ 1 , 2 , 3 , 4 , 5 , 6 , 7 , 8 , 9 , 10 , 10, 10, 10]\n",
    "\n",
    "##儲存牌的種類\n",
    "Banker = []\n",
    "Player = []\n",
    "\n",
    "##建立顯示手牌的函式\n",
    "def show_now(Banker,Player):\n",
    "    print(\"\\n####\\n\")\n",
    "    Banker_str=\"\"\n",
    "    for i in range(len(Banker)):\n",
    "        Banker_str=Banker_str+Banker[i]+\" \"\n",
    "    print(\"莊家： \"+Banker_str)\n",
    "    Player_str=\"\"\n",
    "    for i in range(len(Player)):\n",
    "        Player_str=Player_str+Player[i]+\" \"\n",
    "    print(\"玩家： \"+Player_str)\n",
    "\n",
    "##建立發牌的函式   \n",
    "def Player_deal():\n",
    "    index = random.randint(0,len(Poker_card)-1) \n",
    "    Player.append(Poker_card[index])\n",
    "\n",
    "def Banker_deal():\n",
    "    if len(Banker) == 1:\n",
    "        Banker.append(\"X\")\n",
    "    else:\n",
    "        index = random.randint(0,len(Poker_card)-1) \n",
    "        Banker.append(Poker_card[index]) \n",
    "\n",
    "##建立算牌函式        \n",
    "def Count(cards_list):\n",
    "    total = 0\n",
    "    for i in range(len(cards_list)):\n",
    "        for j in range(len(Poker_card)):\n",
    "            if cards_list[i]==Poker_card[j]:\n",
    "                total+=credit[j]\n",
    "                break\n",
    "    \n",
    "    #如果有A看要不要使用\n",
    "    for i in range(len(cards_list)):\n",
    "        if cards_list[i]=='A' and total<=11:\n",
    "            total+=10\n",
    "    return total\n",
    "\n",
    "##遊戲開始\n",
    "print(\"\\n-------決勝21點-------\\n\")\n",
    "\n",
    "#各發第一張牌\n",
    "Player_deal()\n",
    "Banker_deal()\n",
    "show_now(Banker,Player)\n",
    "\n",
    "#各發第二張牌\n",
    "Player_deal()\n",
    "Banker_deal()\n",
    "show_now(Banker,Player)\n",
    "\n",
    "#讓玩家決定要加牌還是結束回合\n",
    "while True:\n",
    "    ans = input(\"1.加牌 2.結束這回合：\")\n",
    "    if ans==\"2\":\n",
    "        break\n",
    "    elif ans==\"1\":\n",
    "        Player_deal()\n",
    "        show_now(Banker,Player)\n",
    "\n",
    "##顯示莊家及玩家點數\n",
    "print(\"\\n####\\n\")\n",
    "Banker_deal()\n",
    "Banker.remove(\"X\")\n",
    "show_now(Banker,Player)\n",
    "print(\"\\n####\\n\")\n",
    "print(\"莊家：\"+str(Count(Banker))+\" vs 玩家：\"+str(Count(Player)))\n",
    "print(\"\\n####\\n\")\n",
    "\n",
    "##公布輸贏\n",
    "if Count(Player)>21:\n",
    "    print(\"玩家爆牌，莊家勝\")\n",
    "elif Count(Banker)>21:\n",
    "    print(\"莊家爆牌，玩家勝\")\n",
    "elif Count(Player)<Count(Banker):\n",
    "    print(\"莊家勝\")\n",
    "else:\n",
    "    print(\"玩家勝\")"
   ]
  },
  {
   "cell_type": "markdown",
   "metadata": {
    "colab_type": "text",
    "id": "_AiyEhdveSPD"
   },
   "source": [
    "點餐程式\n",
    "*    使用 dictionary 或兩個對應的 list 來定義主食、飲料與小點心\n",
    "*    選擇主食的某一項之後可以帶出價格(自訂)"
   ]
  },
  {
   "cell_type": "code",
   "execution_count": 0,
   "metadata": {
    "colab": {},
    "colab_type": "code",
    "id": "QFtgJKO4eIo8"
   },
   "outputs": [],
   "source": [
    "#例如 dictionary 作法：\n",
    "breakfast = {\"漢堡\":\"80\",\n",
    "             \"蛋餅\":\"35\",\n",
    "             \"三明治\":\"50\"\n",
    "            }"
   ]
  },
  {
   "cell_type": "code",
   "execution_count": 0,
   "metadata": {
    "colab": {},
    "colab_type": "code",
    "id": "ocMFZa6teIo_"
   },
   "outputs": [],
   "source": [
    "#兩個list 的作法\n",
    "breakfast_name =  {\"漢堡\" , \"蛋餅\", \"三明治\"}\n",
    "breakfast_money = {80,      35,    50}       "
   ]
  },
  {
   "cell_type": "code",
   "execution_count": 0,
   "metadata": {
    "colab": {},
    "colab_type": "code",
    "id": "d6C1NHCZeIpB",
    "outputId": "34006390-f903-4630-cf3d-22c6cf33c97c"
   },
   "outputs": [
    {
     "name": "stdout",
     "output_type": "stream",
     "text": [
      "85\n"
     ]
    }
   ],
   "source": [
    "credit =     [ 1 , 2 , 3 , 4 , 5 , 6 , 7 , 8 , 9 , 10 , 10, 10, 10]\n",
    "print(sum(credit))"
   ]
  },
  {
   "cell_type": "markdown",
   "metadata": {
    "colab_type": "text",
    "id": "E63mTcoceIpD"
   },
   "source": [
    "補充：文字 list 一口氣轉"
   ]
  },
  {
   "cell_type": "code",
   "execution_count": 0,
   "metadata": {
    "colab": {},
    "colab_type": "code",
    "id": "Zfc9jTy2eIpD",
    "outputId": "343d86fc-ef14-4608-cce3-353e464efeb1"
   },
   "outputs": [
    {
     "name": "stdout",
     "output_type": "stream",
     "text": [
      "6\n"
     ]
    }
   ],
   "source": [
    "result = ['1', '2', '3']\n",
    "x = list(map(int, result))\n",
    "print (sum(x))"
   ]
  },
  {
   "cell_type": "code",
   "execution_count": 0,
   "metadata": {
    "colab": {},
    "colab_type": "code",
    "id": "lOfX6QYoeIpF"
   },
   "outputs": [],
   "source": []
  }
 ],
 "metadata": {
  "colab": {
   "collapsed_sections": [
    "eU0g3-IhIlp_",
    "cZHDmXZhIlqM"
   ],
   "name": "03-Advanced Python3.ipynb",
   "provenance": []
  },
  "kernelspec": {
   "display_name": "Python 3",
   "language": "python",
   "name": "python3"
  },
  "language_info": {
   "codemirror_mode": {
    "name": "ipython",
    "version": 3
   },
   "file_extension": ".py",
   "mimetype": "text/x-python",
   "name": "python",
   "nbconvert_exporter": "python",
   "pygments_lexer": "ipython3",
   "version": "3.7.4"
  },
  "widgets": {
   "application/vnd.jupyter.widget-state+json": {
    "18faa975f662490ab44b575ecee0032e": {
     "model_module": "@jupyter-widgets/controls",
     "model_name": "DatePickerModel",
     "state": {
      "_dom_classes": [],
      "_model_module": "@jupyter-widgets/controls",
      "_model_module_version": "1.5.0",
      "_model_name": "DatePickerModel",
      "_view_count": null,
      "_view_module": "@jupyter-widgets/controls",
      "_view_module_version": "1.5.0",
      "_view_name": "DatePickerView",
      "description": "你的生日",
      "description_tooltip": null,
      "disabled": false,
      "layout": "IPY_MODEL_23bab335b27c4ad8b96f562e1b24f7f6",
      "style": "IPY_MODEL_8fb5757727ba4fe681842b1374e1ec4c",
      "value": {
       "date": 16,
       "month": 7,
       "year": 1982
      }
     }
    },
    "23bab335b27c4ad8b96f562e1b24f7f6": {
     "model_module": "@jupyter-widgets/base",
     "model_name": "LayoutModel",
     "state": {
      "_model_module": "@jupyter-widgets/base",
      "_model_module_version": "1.2.0",
      "_model_name": "LayoutModel",
      "_view_count": null,
      "_view_module": "@jupyter-widgets/base",
      "_view_module_version": "1.2.0",
      "_view_name": "LayoutView",
      "align_content": null,
      "align_items": null,
      "align_self": null,
      "border": null,
      "bottom": null,
      "display": null,
      "flex": null,
      "flex_flow": null,
      "grid_area": null,
      "grid_auto_columns": null,
      "grid_auto_flow": null,
      "grid_auto_rows": null,
      "grid_column": null,
      "grid_gap": null,
      "grid_row": null,
      "grid_template_areas": null,
      "grid_template_columns": null,
      "grid_template_rows": null,
      "height": null,
      "justify_content": null,
      "justify_items": null,
      "left": null,
      "margin": null,
      "max_height": null,
      "max_width": null,
      "min_height": null,
      "min_width": null,
      "object_fit": null,
      "object_position": null,
      "order": null,
      "overflow": null,
      "overflow_x": null,
      "overflow_y": null,
      "padding": null,
      "right": null,
      "top": null,
      "visibility": null,
      "width": null
     }
    },
    "8fb5757727ba4fe681842b1374e1ec4c": {
     "model_module": "@jupyter-widgets/controls",
     "model_name": "DescriptionStyleModel",
     "state": {
      "_model_module": "@jupyter-widgets/controls",
      "_model_module_version": "1.5.0",
      "_model_name": "DescriptionStyleModel",
      "_view_count": null,
      "_view_module": "@jupyter-widgets/base",
      "_view_module_version": "1.2.0",
      "_view_name": "StyleView",
      "description_width": ""
     }
    }
   }
  }
 },
 "nbformat": 4,
 "nbformat_minor": 1
}
