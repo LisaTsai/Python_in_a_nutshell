{
 "cells": [
  {
   "cell_type": "markdown",
   "metadata": {},
   "source": [
    "# 基礎Python教學\n",
    "\n",
    "\n"
   ]
  },
  {
   "cell_type": "markdown",
   "metadata": {},
   "source": [
    "MIT License. Copyright (c) 2019 LisaTsai\n",
    "### 1. 輸出文字及註解"
   ]
  },
  {
   "cell_type": "markdown",
   "metadata": {},
   "source": [
    "=============  \n",
    "\n",
    "**print()** 可以幫你把括號中的文字**印出來**  \n",
    "**雙引號(\"\")**裡面放的內容才能被辨識為文字唷!\n",
    "+ 試試看改變文字內容，再執行一次程式"
   ]
  },
  {
   "cell_type": "code",
   "execution_count": 1,
   "metadata": {},
   "outputs": [
    {
     "name": "stdout",
     "output_type": "stream",
     "text": [
      "I like Python!!\n"
     ]
    }
   ],
   "source": [
    "print(\"I like Python!!\")"
   ]
  },
  {
   "cell_type": "markdown",
   "metadata": {},
   "source": [
    "==============  \n",
    "\n",
    "**井字號(#)** 會把它後面的內容**註解**掉，也就是#後面的程式**不會執行**  \n",
    "+ 試試看去掉下方程式中的#，程式就可以執行囉!"
   ]
  },
  {
   "cell_type": "code",
   "execution_count": 5,
   "metadata": {},
   "outputs": [],
   "source": [
    "#print(\"I love cavedu!!\")"
   ]
  },
  {
   "cell_type": "markdown",
   "metadata": {},
   "source": [
    "============== \n",
    "\n",
    "利用**加號(+)**來把文字串起來  \n",
    "+ 試試看改變文字內容，或是將多幾個文字內容串接在一起"
   ]
  },
  {
   "cell_type": "code",
   "execution_count": 8,
   "metadata": {},
   "outputs": [
    {
     "name": "stdout",
     "output_type": "stream",
     "text": [
      "歡迎來到新北市Python課程\n"
     ]
    }
   ],
   "source": [
    "print(\"歡迎\"+\"來到\"+\"新北市Python課程\")"
   ]
  },
  {
   "cell_type": "markdown",
   "metadata": {},
   "source": [
    "==============  \n",
    "使用**星號(*)**做乘法，可以用來**重複一樣的字串*  \n",
    "下面的程式可以幫你print出20個連續的o來強調程式有多好玩\n",
    "+ 試試看打上你想要重複的話，例如:\"I love you \"*3000"
   ]
  },
  {
   "cell_type": "code",
   "execution_count": 3,
   "metadata": {},
   "outputs": [
    {
     "name": "stdout",
     "output_type": "stream",
     "text": [
      "Programming is soooooooooooooooooooo fun\n"
     ]
    }
   ],
   "source": [
    "print(\"Programming is s\"+\"o\"*20+\" fun\")"
   ]
  },
  {
   "cell_type": "code",
   "execution_count": 10,
   "metadata": {},
   "outputs": [
    {
     "name": "stdout",
     "output_type": "stream",
     "text": [
      "I love you I love you I love you I love you I love you I love you I love you I love you I love you I love you I love you I love you I love you I love you I love you I love you I love you I love you I love you I love you I love you I love you I love you I love you I love you I love you I love you I love you I love you I love you I love you I love you I love you I love you I love you I love you I love you I love you I love you I love you I love you I love you I love you I love you I love you I love you I love you I love you I love you I love you I love you I love you I love you I love you I love you I love you I love you I love you I love you I love you I love you I love you I love you I love you I love you I love you I love you I love you I love you I love you I love you I love you I love you I love you I love you I love you I love you I love you I love you I love you I love you I love you I love you I love you I love you I love you I love you I love you I love you I love you I love you I love you I love you I love you I love you I love you I love you I love you I love you I love you I love you I love you I love you I love you I love you I love you I love you I love you I love you I love you I love you I love you I love you I love you I love you I love you I love you I love you I love you I love you I love you I love you I love you I love you I love you I love you I love you I love you I love you I love you I love you I love you I love you I love you I love you I love you I love you I love you I love you I love you I love you I love you I love you I love you I love you I love you I love you I love you I love you I love you I love you I love you I love you I love you I love you I love you I love you I love you I love you I love you I love you I love you I love you I love you I love you I love you I love you I love you I love you I love you I love you I love you I love you I love you I love you I love you I love you I love you I love you I love you I love you I love you I love you I love you I love you I love you I love you I love you I love you I love you I love you I love you I love you I love you I love you I love you I love you I love you I love you I love you I love you I love you I love you I love you I love you I love you I love you I love you I love you I love you I love you I love you I love you I love you I love you I love you I love you I love you I love you I love you I love you I love you I love you I love you I love you I love you I love you I love you I love you I love you I love you I love you I love you I love you I love you I love you I love you I love you I love you I love you I love you I love you I love you I love you I love you I love you I love you I love you I love you I love you I love you I love you I love you I love you I love you I love you I love you I love you I love you I love you I love you I love you I love you I love you I love you I love you I love you I love you I love you I love you I love you I love you I love you I love you I love you I love you I love you I love you I love you I love you I love you I love you I love you I love you I love you I love you I love you I love you I love you I love you I love you I love you I love you I love you I love you I love you I love you I love you I love you I love you I love you I love you I love you I love you I love you I love you I love you I love you I love you I love you I love you I love you I love you I love you I love you I love you I love you I love you I love you I love you I love you I love you I love you I love you I love you I love you I love you I love you I love you I love you I love you I love you I love you I love you I love you I love you I love you I love you I love you I love you I love you I love you I love you I love you I love you I love you I love you I love you I love you I love you I love you I love you I love you I love you I love you I love you I love you I love you I love you I love you I love you I love you I love you I love you I love you I love you I love you I love you I love you I love you I love you I love you I love you I love you I love you I love you I love you I love you I love you I love you I love you I love you I love you I love you I love you I love you I love you I love you I love you I love you I love you I love you I love you I love you I love you I love you I love you I love you I love you I love you I love you I love you I love you I love you I love you I love you I love you I love you I love you I love you I love you I love you I love you I love you I love you I love you I love you I love you I love you I love you I love you I love you I love you I love you I love you I love you I love you I love you I love you I love you I love you I love you I love you I love you I love you I love you I love you I love you I love you I love you I love you I love you I love you I love you I love you I love you I love you I love you I love you I love you I love you I love you I love you I love you I love you I love you I love you I love you I love you I love you I love you I love you I love you I love you I love you I love you I love you I love you I love you I love you I love you I love you I love you I love you I love you I love you I love you I love you I love you I love you I love you I love you I love you I love you I love you I love you I love you I love you I love you I love you I love you I love you I love you I love you I love you I love you I love you I love you I love you I love you I love you I love you I love you I love you I love you I love you I love you I love you I love you I love you I love you I love you I love you I love you I love you I love you I love you I love you I love you I love you I love you I love you I love you I love you I love you I love you I love you I love you I love you I love you I love you I love you I love you I love you I love you I love you I love you I love you I love you I love you I love you I love you I love you I love you I love you I love you I love you I love you I love you I love you I love you I love you I love you I love you I love you I love you I love you I love you I love you I love you I love you I love you I love you I love you I love you I love you I love you I love you I love you I love you I love you I love you I love you I love you I love you I love you I love you I love you I love you I love you I love you I love you I love you I love you I love you I love you I love you I love you I love you I love you I love you I love you I love you I love you I love you I love you I love you I love you I love you I love you I love you I love you I love you I love you I love you I love you I love you I love you I love you I love you I love you I love you I love you I love you I love you I love you I love you I love you I love you I love you I love you I love you I love you I love you I love you I love you I love you I love you I love you I love you I love you I love you I love you I love you I love you I love you I love you I love you I love you I love you I love you I love you I love you I love you I love you I love you I love you I love you I love you I love you I love you I love you I love you I love you I love you I love you I love you I love you I love you I love you I love you I love you I love you I love you I love you I love you I love you I love you I love you I love you I love you I love you I love you I love you I love you I love you I love you I love you I love you I love you I love you I love you I love you I love you I love you I love you I love you I love you I love you I love you I love you I love you I love you I love you I love you I love you I love you I love you I love you I love you I love you I love you I love you I love you I love you I love you I love you I love you I love you I love you I love you I love you I love you I love you I love you I love you I love you I love you I love you I love you I love you I love you I love you I love you I love you I love you I love you I love you I love you I love you I love you I love you I love you I love you I love you I love you I love you I love you I love you I love you I love you I love you I love you I love you I love you I love you I love you I love you I love you I love you I love you I love you I love you I love you I love you I love you I love you I love you I love you I love you I love you I love you I love you I love you I love you I love you I love you I love you I love you I love you I love you I love you I love you I love you I love you I love you I love you I love you I love you I love you I love you I love you I love you I love you I love you I love you I love you I love you I love you I love you I love you I love you I love you I love you I love you I love you I love you I love you I love you I love you I love you I love you I love you I love you I love you I love you I love you I love you I love you I love you I love you I love you I love you I love you I love you I love you I love you I love you I love you I love you I love you I love you I love you I love you I love you I love you I love you I love you I love you I love you I love you I love you I love you I love you I love you I love you I love you I love you I love you I love you I love you I love you I love you I love you I love you I love you I love you I love you I love you I love you I love you I love you I love you I love you I love you I love you I love you I love you I love you I love you I love you I love you I love you I love you I love you I love you I love you I love you I love you I love you I love you I love you I love you I love you I love you I love you I love you I love you I love you I love you I love you I love you I love you I love you I love you I love you I love you I love you I love you I love you I love you I love you I love you I love you I love you I love you I love you I love you I love you I love you I love you I love you I love you I love you I love you I love you I love you I love you I love you I love you I love you I love you I love you I love you I love you I love you I love you I love you I love you I love you I love you I love you I love you I love you I love you I love you I love you I love you I love you I love you I love you I love you I love you I love you I love you I love you I love you I love you I love you I love you I love you I love you I love you I love you I love you I love you I love you I love you I love you I love you I love you I love you I love you I love you I love you I love you I love you I love you I love you I love you I love you I love you I love you I love you I love you I love you I love you I love you I love you I love you I love you I love you I love you I love you I love you I love you I love you I love you I love you I love you I love you I love you I love you I love you I love you I love you I love you I love you I love you I love you I love you I love you I love you I love you I love you I love you I love you I love you I love you I love you I love you I love you I love you I love you I love you I love you I love you I love you I love you I love you I love you I love you I love you I love you I love you I love you I love you I love you I love you I love you I love you I love you I love you I love you I love you I love you I love you I love you I love you I love you I love you I love you I love you I love you I love you I love you I love you I love you I love you I love you I love you I love you I love you I love you I love you I love you I love you I love you I love you I love you I love you I love you I love you I love you I love you I love you I love you I love you I love you I love you I love you I love you I love you I love you I love you I love you I love you I love you I love you I love you I love you I love you I love you I love you I love you I love you I love you I love you I love you I love you I love you I love you I love you I love you I love you I love you I love you I love you I love you I love you I love you I love you I love you I love you I love you I love you I love you I love you I love you I love you I love you I love you I love you I love you I love you I love you I love you I love you I love you I love you I love you I love you I love you I love you I love you I love you I love you I love you I love you I love you I love you I love you I love you I love you I love you I love you I love you I love you I love you I love you I love you I love you I love you I love you I love you I love you I love you I love you I love you I love you I love you I love you I love you I love you I love you I love you I love you I love you I love you I love you I love you I love you I love you I love you I love you I love you I love you I love you I love you I love you I love you I love you I love you I love you I love you I love you I love you I love you I love you I love you I love you I love you I love you I love you I love you I love you I love you I love you I love you I love you I love you I love you I love you I love you I love you I love you I love you I love you I love you I love you I love you I love you I love you I love you I love you I love you I love you I love you I love you I love you I love you I love you I love you I love you I love you I love you I love you I love you I love you I love you I love you I love you I love you I love you I love you I love you I love you I love you I love you I love you I love you I love you I love you I love you I love you I love you I love you I love you I love you I love you I love you I love you I love you I love you I love you I love you I love you I love you I love you I love you I love you I love you I love you I love you I love you I love you I love you I love you I love you I love you I love you I love you I love you I love you I love you I love you I love you I love you I love you I love you I love you I love you I love you I love you I love you I love you I love you I love you I love you I love you I love you I love you I love you I love you I love you I love you I love you I love you I love you I love you I love you I love you I love you I love you I love you I love you I love you I love you I love you I love you I love you I love you I love you I love you I love you I love you I love you I love you I love you I love you I love you I love you I love you I love you I love you I love you I love you I love you I love you I love you I love you I love you I love you I love you I love you I love you I love you I love you I love you I love you I love you I love you I love you I love you I love you I love you I love you I love you I love you I love you I love you I love you I love you I love you I love you I love you I love you I love you I love you I love you I love you I love you I love you I love you I love you I love you I love you I love you I love you I love you I love you I love you I love you I love you I love you I love you I love you I love you I love you I love you I love you I love you I love you I love you I love you I love you I love you I love you I love you I love you I love you I love you I love you I love you I love you I love you I love you I love you I love you I love you I love you I love you I love you I love you I love you I love you I love you I love you I love you I love you I love you I love you I love you I love you I love you I love you I love you I love you I love you I love you I love you I love you I love you I love you I love you I love you I love you I love you I love you I love you I love you I love you I love you I love you I love you I love you I love you I love you I love you I love you I love you I love you I love you I love you I love you I love you I love you I love you I love you I love you I love you I love you I love you I love you I love you I love you I love you I love you I love you I love you I love you I love you I love you I love you I love you I love you I love you I love you I love you I love you I love you I love you I love you I love you I love you I love you I love you I love you I love you I love you I love you I love you I love you I love you I love you I love you I love you I love you I love you I love you I love you I love you I love you I love you I love you I love you I love you I love you I love you I love you I love you I love you I love you I love you I love you I love you I love you I love you I love you I love you I love you I love you I love you I love you I love you I love you I love you I love you I love you I love you I love you I love you I love you I love you I love you I love you I love you I love you I love you I love you I love you I love you I love you I love you I love you I love you I love you I love you I love you I love you I love you I love you I love you I love you I love you I love you I love you I love you I love you I love you I love you I love you I love you I love you I love you I love you I love you I love you I love you I love you I love you I love you I love you I love you I love you I love you I love you I love you I love you I love you I love you I love you I love you I love you I love you I love you I love you I love you I love you I love you I love you I love you I love you I love you I love you I love you I love you I love you I love you I love you I love you I love you I love you I love you I love you I love you I love you I love you I love you I love you I love you I love you I love you I love you I love you I love you I love you I love you I love you I love you I love you I love you I love you I love you I love you I love you I love you I love you I love you I love you I love you I love you I love you I love you I love you I love you I love you I love you I love you I love you I love you I love you I love you I love you I love you I love you I love you I love you I love you I love you I love you I love you I love you I love you I love you I love you I love you I love you I love you I love you I love you I love you I love you I love you I love you I love you I love you I love you I love you I love you I love you I love you I love you I love you I love you I love you I love you I love you I love you I love you I love you I love you I love you I love you I love you I love you I love you I love you I love you I love you I love you I love you I love you I love you I love you I love you I love you I love you I love you I love you I love you I love you I love you I love you I love you I love you I love you I love you I love you I love you I love you I love you I love you I love you I love you I love you I love you I love you I love you I love you I love you I love you I love you I love you I love you I love you I love you I love you I love you I love you I love you I love you I love you I love you I love you I love you I love you I love you I love you I love you I love you I love you I love you I love you I love you I love you I love you I love you I love you I love you I love you I love you I love you I love you I love you I love you I love you I love you I love you I love you I love you I love you I love you I love you I love you I love you I love you I love you I love you I love you I love you I love you I love you I love you I love you I love you I love you I love you I love you I love you I love you I love you I love you I love you I love you I love you I love you I love you I love you I love you I love you I love you I love you I love you I love you I love you I love you I love you I love you I love you I love you I love you I love you I love you I love you I love you I love you I love you I love you I love you I love you I love you I love you I love you I love you I love you I love you I love you I love you I love you I love you I love you I love you I love you I love you I love you I love you I love you I love you I love you I love you I love you I love you I love you I love you I love you I love you I love you I love you I love you I love you I love you I love you I love you I love you I love you I love you I love you I love you I love you I love you I love you I love you I love you I love you I love you I love you I love you I love you I love you I love you I love you I love you I love you I love you I love you I love you I love you I love you I love you I love you I love you I love you I love you I love you I love you I love you I love you I love you I love you I love you I love you I love you I love you I love you I love you I love you I love you I love you I love you I love you I love you I love you I love you I love you I love you I love you I love you I love you I love you I love you I love you I love you I love you I love you I love you I love you I love you I love you I love you I love you I love you I love you I love you I love you I love you I love you I love you I love you I love you I love you I love you I love you I love you I love you I love you I love you I love you I love you I love you I love you I love you I love you I love you I love you I love you I love you I love you I love you I love you I love you I love you I love you I love you I love you I love you I love you I love you I love you I love you I love you I love you I love you I love you I love you I love you I love you I love you I love you I love you I love you I love you I love you I love you I love you I love you I love you I love you I love you I love you I love you I love you I love you I love you I love you I love you I love you I love you I love you I love you I love you I love you I love you I love you I love you I love you I love you I love you I love you I love you I love you I love you I love you I love you I love you I love you I love you I love you I love you I love you I love you I love you I love you I love you I love you I love you I love you I love you I love you I love you I love you I love you I love you I love you I love you I love you I love you I love you I love you I love you I love you I love you I love you I love you I love you I love you I love you I love you I love you I love you I love you I love you I love you I love you I love you I love you I love you I love you I love you I love you I love you I love you I love you I love you I love you I love you I love you I love you I love you I love you I love you I love you I love you I love you I love you I love you I love you I love you I love you I love you I love you I love you I love you I love you I love you I love you I love you I love you I love you I love you I love you I love you I love you I love you I love you I love you I love you I love you I love you I love you I love you I love you I love you I love you I love you I love you I love you I love you I love you I love you I love you I love you I love you I love you I love you I love you I love you I love you I love you I love you I love you I love you I love you I love you I love you I love you I love you I love you I love you I love you I love you I love you I love you I love you I love you I love you I love you I love you I love you I love you I love you I love you I love you I love you I love you I love you I love you I love you I love you I love you I love you I love you I love you I love you I love you I love you I love you I love you I love you I love you I love you I love you I love you I love you I love you I love you I love you I love you I love you I love you I love you I love you I love you I love you I love you I love you I love you I love you I love you I love you I love you I love you I love you I love you I love you I love you I love you I love you I love you I love you I love you I love you I love you I love you I love you I love you I love you I love you I love you I love you I love you I love you I love you I love you I love you I love you I love you I love you I love you I love you I love you I love you I love you I love you I love you I love you I love you I love you I love you I love you I love you I love you I love you I love you I love you I love you I love you I love you I love you I love you I love you I love you I love you I love you I love you I love you I love you I love you I love you I love you I love you I love you I love you I love you I love you I love you I love you I love you I love you I love you I love you I love you I love you I love you I love you I love you I love you I love you I love you I love you I love you I love you I love you I love you I love you I love you I love you I love you I love you I love you I love you I love you I love you I love you I love you I love you I love you I love you I love you I love you I love you I love you I love you I love you I love you I love you I love you I love you I love you I love you I love you I love you I love you I love you I love you I love you I love you I love you I love you I love you I love you I love you I love you I love you I love you I love you I love you I love you I love you I love you I love you I love you I love you I love you I love you I love you I love you I love you I love you I love you I love you I love you I love you I love you I love you I love you I love you I love you I love you I love you I love you I love you I love you I love you I love you I love you I love you I love you I love you I love you I love you I love you I love you I love you I love you I love you I love you I love you I love you I love you I love you I love you I love you I love you I love you I love you I love you I love you I love you I love you I love you I love you I love you I love you I love you I love you I love you I love you I love you I love you I love you I love you I love you I love you I love you I love you I love you I love you I love you I love you I love you I love you I love you I love you I love you I love you I love you I love you I love you I love you I love you I love you I love you I love you I love you I love you I love you I love you I love you I love you I love you I love you I love you I love you I love you I love you I love you I love you I love you I love you I love you I love you I love you I love you I love you I love you I love you I love you I love you I love you I love you I love you I love you I love you I love you I love you I love you I love you I love you I love you I love you I love you I love you I love you I love you I love you I love you I love you I love you I love you I love you I love you I love you I love you I love you I love you I love you I love you I love you I love you I love you I love you I love you I love you I love you I love you I love you I love you I love you I love you I love you I love you I love you I love you I love you I love you I love you I love you I love you I love you I love you I love you I love you I love you I love you I love you I love you I love you I love you I love you I love you I love you I love you I love you I love you I love you I love you I love you I love you I love you I love you I love you I love you I love you I love you I love you I love you I love you I love you I love you I love you I love you I love you I love you I love you I love you I love you I love you I love you I love you I love you I love you I love you I love you I love you I love you I love you I love you I love you I love you I love you I love you I love you I love you I love you I love you I love you I love you I love you I love you I love you I love you I love you I love you I love you I love you I love you I love you I love you I love you I love you I love you I love you I love you I love you I love you I love you I love you I love you I love you I love you I love you I love you I love you I love you I love you I love you I love you I love you I love you I love you I love you I love you I love you I love you I love you I love you I love you I love you I love you I love you I love you I love you I love you I love you I love you I love you I love you I love you I love you I love you I love you I love you I love you I love you I love you I love you I love you I love you I love you I love you I love you I love you I love you I love you I love you I love you I love you I love you I love you I love you I love you I love you I love you I love you I love you I love you I love you I love you I love you I love you I love you I love you I love you I love you I love you I love you I love you I love you I love you I love you I love you I love you I love you I love you I love you I love you I love you I love you I love you I love you I love you I love you I love you I love you I love you I love you I love you I love you I love you I love you I love you I love you I love you I love you I love you I love you I love you I love you I love you I love you I love you I love you I love you I love you I love you I love you I love you I love you I love you I love you I love you I love you I love you I love you I love you I love you I love you I love you I love you I love you I love you I love you I love you I love you I love you I love you I love you I love you I love you I love you I love you I love you I love you I love you I love you I love you I love you I love you I love you I love you I love you I love you I love you I love you I love you I love you I love you I love you I love you I love you I love you I love you I love you I love you I love you I love you I love you I love you I love you I love you I love you I love you I love you I love you I love you I love you I love you I love you I love you I love you I love you I love you I love you I love you I love you I love you I love you I love you I love you I love you I love you I love you I love you I love you I love you I love you I love you I love you I love you I love you I love you I love you I love you I love you I love you I love you I love you I love you I love you I love you I love you I love you I love you I love you I love you I love you I love you I love you I love you I love you I love you I love you I love you I love you I love you I love you I love you I love you I love you I love you I love you I love you I love you I love you I love you I love you I love you I love you I love you I love you I love you I love you I love you I love you I love you I love you I love you I love you I love you I love you I love you I love you I love you I love you I love you I love you I love you I love you I love you I love you I love you I love you I love you I love you I love you I love you I love you I love you I love you I love you I love you I love you I love you I love you I love you I love you I love you I love you I love you I love you I love you I love you I love you I love you I love you I love you I love you I love you I love you I love you I love you I love you I love you I love you I love you I love you I love you I love you I love you I love you I love you I love you I love you I love you I love you I love you I love you I love you I love you I love you I love you I love you I love you I love you I love you I love you I love you I love you I love you I love you I love you I love you I love you I love you I love you I love you I love you I love you I love you I love you I love you I love you I love you I love you I love you I love you I love you I love you I love you I love you I love you I love you I love you I love you I love you I love you I love you I love you I love you I love you I love you I love you I love you I love you I love you I love you I love you I love you I love you I love you I love you I love you I love you I love you I love you I love you I love you I love you I love you I love you I love you I love you I love you I love you I love you I love you I love you I love you I love you I love you I love you I love you I love you I love you I love you I love you I love you I love you I love you I love you I love you I love you I love you I love you I love you I love you I love you I love you I love you I love you I love you I love you I love you I love you I love you I love you I love you I love you I love you I love you I love you I love you I love you I love you I love you I love you I love you I love you I love you I love you I love you I love you I love you I love you I love you I love you I love you I love you I love you I love you I love you I love you I love you I love you I love you I love you I love you I love you I love you I love you I love you I love you I love you I love you I love you I love you I love you I love you I love you I love you I love you I love you I love you I love you I love you I love you I love you I love you I love you I love you I love you I love you I love you I love you I love you I love you I love you I love you I love you I love you I love you I love you I love you I love you I love you I love you I love you I love you I love you I love you I love you I love you I love you I love you I love you I love you I love you I love you I love you I love you I love you I love you I love you I love you I love you I love you I love you I love you I love you I love you I love you I love you I love you I love you I love you I love you I love you I love you I love you \n"
     ]
    }
   ],
   "source": [
    "print(\"I love you \"*3000)"
   ]
  },
  {
   "cell_type": "markdown",
   "metadata": {},
   "source": [
    "### 2-1. 數字四則運算"
   ]
  },
  {
   "cell_type": "code",
   "execution_count": 2,
   "metadata": {},
   "outputs": [
    {
     "data": {
      "text/plain": [
       "579"
      ]
     },
     "execution_count": 2,
     "metadata": {},
     "output_type": "execute_result"
    }
   ],
   "source": [
    "123+456\n",
    "#1314-520\n",
    "#3*3\n",
    "#343.0/7.0"
   ]
  },
  {
   "cell_type": "markdown",
   "metadata": {},
   "source": [
    "### 2-2. 使用math函式庫"
   ]
  },
  {
   "cell_type": "code",
   "execution_count": 3,
   "metadata": {},
   "outputs": [
    {
     "name": "stdout",
     "output_type": "stream",
     "text": [
      "240跟96的最大公因數為\n",
      "\n",
      "48\n",
      "\n",
      "783除以10的餘數為\n",
      "\n",
      "3.0\n",
      "\n",
      "2的十次方為 1024.0\n"
     ]
    }
   ],
   "source": [
    "import math\n",
    "###from math import *\n",
    "\n",
    "#換行符號\\n\n",
    "print(\"240跟96的最大公因數為\\n\")\n",
    "print(math.gcd(240, 96))\n",
    "###print(gcd(240, 96))\n",
    "\n",
    "print(\"\\n783除以10的餘數為\\n\")\n",
    "print(math.remainder(783, 10))\n",
    "###print(remainder(783, 10))\n",
    "\n",
    "\n",
    "#文字及數字合併需轉換為同一類型，例如：將數字轉為文字類型str\n",
    "print(\"\\n2的十次方為 \"+str(math.pow(2, 10))) \n",
    "###print(\"\\n2的十次方為 \"+str(pow(2, 10))) \n"
   ]
  },
  {
   "cell_type": "markdown",
   "metadata": {},
   "source": [
    "### 3. 使用變數 (Variable)"
   ]
  },
  {
   "cell_type": "code",
   "execution_count": 4,
   "metadata": {},
   "outputs": [
    {
     "name": "stdout",
     "output_type": "stream",
     "text": [
      "21.9052278971734\n",
      "\n",
      "一百萬元三年後的本利和為\n",
      "1030301.0000000001\n"
     ]
    }
   ],
   "source": [
    "#計算BMI\n",
    "height = 1.63\n",
    "weight = 58.2\n",
    "BMI = weight/(height*height)\n",
    "print(BMI)\n",
    "\n",
    "#計算定存利息\n",
    "money = 1000000\n",
    "year = 3\n",
    "rate = 1.01\n",
    "print(\"\\n一百萬元三年後的本利和為\")\n",
    "print(money*math.pow(1.01,3))"
   ]
  },
  {
   "cell_type": "markdown",
   "metadata": {},
   "source": [
    "### 4. 使用者輸入"
   ]
  },
  {
   "cell_type": "code",
   "execution_count": null,
   "metadata": {},
   "outputs": [],
   "source": [
    "#BMI互動版\n",
    "height = input(\"請輸入你的身高(m):\")\n",
    "weight = input(\"請輸入你的體重(kg):\")\n",
    "#將文字轉為浮點數類型float\n",
    "BMI = float(weight)/(float(height)*float(height))\n",
    "print(\"你的身高為 %s m，體重為 %s kg，BMI為 %s !\"%(str(height),str(weight),str(BMI)))\n"
   ]
  },
  {
   "cell_type": "markdown",
   "metadata": {},
   "source": [
    "### 5. if/else 判斷式"
   ]
  },
  {
   "cell_type": "code",
   "execution_count": 29,
   "metadata": {},
   "outputs": [
    {
     "name": "stdout",
     "output_type": "stream",
     "text": [
      "隨機輸入你今日的幸運數字:777\n",
      "大吉大利，今晚吃雞\n"
     ]
    }
   ],
   "source": [
    "#運勢\n",
    "lucky_number = input(\"隨機輸入你今日的幸運數字:\")\n",
    "if int(lucky_number)%3==0:\n",
    "    print(\"大吉大利，今晚吃雞\")\n",
    "elif int(lucky_number)%3==1:\n",
    "    print(\"本日小吉，不會被吉\")\n",
    "else:\n",
    "    print(\"本日吉。\")\n"
   ]
  },
  {
   "cell_type": "markdown",
   "metadata": {},
   "source": [
    "### 6.  while/for 迴圈"
   ]
  },
  {
   "cell_type": "code",
   "execution_count": 49,
   "metadata": {},
   "outputs": [
    {
     "name": "stdout",
     "output_type": "stream",
     "text": [
      "Do you like Python?(YES/NO)NO\n",
      "你說什麼？\n",
      "Do you like Python?(YES/NO)NO\n",
      "你說什麼？\n",
      "Do you like Python?(YES/NO)YES\n",
      "很好\n"
     ]
    }
   ],
   "source": [
    "#while 迴圈\n",
    "\n",
    "while input(\"Do you like Python?(YES/NO)\") != \"YES\":\n",
    "    print(\"你說什麼？\")\n",
    "\n",
    "print(\"很好\")\n"
   ]
  },
  {
   "cell_type": "code",
   "execution_count": 52,
   "metadata": {},
   "outputs": [
    {
     "name": "stdout",
     "output_type": "stream",
     "text": [
      "0\n",
      "1\n",
      "2\n",
      "3\n",
      "4\n",
      "5\n",
      "6\n",
      "7\n",
      "8\n",
      "9\n"
     ]
    }
   ],
   "source": [
    "#for迴圈\n",
    "#range的用途\n",
    "for i in range(10):\n",
    "    print(i)"
   ]
  },
  {
   "cell_type": "code",
   "execution_count": 8,
   "metadata": {},
   "outputs": [
    {
     "name": "stdout",
     "output_type": "stream",
     "text": [
      " 1x1=1\t 1x2=2\t 1x3=3\t 1x4=4\t 1x5=5\t 1x6=6\t 1x7=7\t 1x8=8\t 1x9=9\t\n",
      " 2x1=2\t 2x2=4\t 2x3=6\t 2x4=8\t 2x5=10\t 2x6=12\t 2x7=14\t 2x8=16\t 2x9=18\t\n",
      " 3x1=3\t 3x2=6\t 3x3=9\t 3x4=12\t 3x5=15\t 3x6=18\t 3x7=21\t 3x8=24\t 3x9=27\t\n",
      " 4x1=4\t 4x2=8\t 4x3=12\t 4x4=16\t 4x5=20\t 4x6=24\t 4x7=28\t 4x8=32\t 4x9=36\t\n",
      " 5x1=5\t 5x2=10\t 5x3=15\t 5x4=20\t 5x5=25\t 5x6=30\t 5x7=35\t 5x8=40\t 5x9=45\t\n",
      " 6x1=6\t 6x2=12\t 6x3=18\t 6x4=24\t 6x5=30\t 6x6=36\t 6x7=42\t 6x8=48\t 6x9=54\t\n",
      " 7x1=7\t 7x2=14\t 7x3=21\t 7x4=28\t 7x5=35\t 7x6=42\t 7x7=49\t 7x8=56\t 7x9=63\t\n",
      " 8x1=8\t 8x2=16\t 8x3=24\t 8x4=32\t 8x5=40\t 8x6=48\t 8x7=56\t 8x8=64\t 8x9=72\t\n",
      " 9x1=9\t 9x2=18\t 9x3=27\t 9x4=36\t 9x5=45\t 9x6=54\t 9x7=63\t 9x8=72\t 9x9=81\t\n"
     ]
    }
   ],
   "source": [
    "#雙重for迴圈-99乘法表\n",
    "for i in range(9):\n",
    "    string99 = \"\"\n",
    "    for j in range(9):\n",
    "        #\\t代表tab鍵\n",
    "        string99=string99+(\" \"+str(i+1)+\"x\"+str(j+1)+\"=\"+str((i+1)*(j+1))+\"\\t\")\n",
    "    print(string99)"
   ]
  },
  {
   "cell_type": "markdown",
   "metadata": {},
   "source": [
    "### 7.定義可以呼叫的函式 (function)"
   ]
  },
  {
   "cell_type": "code",
   "execution_count": 9,
   "metadata": {},
   "outputs": [
    {
     "name": "stdout",
     "output_type": "stream",
     "text": [
      "汪汪汪\n",
      "Hello, Lisa\n",
      "Lisa Lisa Lisa\n",
      "汪汪汪\n",
      "Hello, George\n",
      "George George George\n",
      "False\n"
     ]
    }
   ],
   "source": [
    "#你家鸚鵡\n",
    "def parrot(name):\n",
    "    print(\"Hello, \"+name)\n",
    "    print(name+\" \"+name+\" \"+name)\n",
    "\n",
    "#你家狗\n",
    "def dog():\n",
    "    print(\"汪汪汪\")\n",
    "\n",
    "#你家貓\n",
    "def cat():\n",
    "    return False\n",
    "\n",
    "dog()\n",
    "parrot(\"Lisa\")\n",
    "dog()\n",
    "parrot(\"George\")\n",
    "\n",
    "iscat=cat()\n",
    "print(iscat)"
   ]
  },
  {
   "cell_type": "markdown",
   "metadata": {},
   "source": [
    "### 8. dictionary/list\n"
   ]
  },
  {
   "cell_type": "code",
   "execution_count": 1,
   "metadata": {},
   "outputs": [
    {
     "name": "stdout",
     "output_type": "stream",
     "text": [
      "星期一\n",
      "月曜日\n"
     ]
    }
   ],
   "source": [
    "#dictionary\n",
    "Chinese_dic={\"Monday\":\"星期一\",\n",
    "             \"Tueday\":\"星期二\",\n",
    "             \"Wednesday\":\"星期三\",\n",
    "             \"Thrusday\":\"星期四\",\n",
    "             \"Friday\":\"星期五\",\n",
    "             \"Saturday\":\"星期六\",\n",
    "             \"Sunday\":\"星期日\"\n",
    "            }\n",
    "Japanese_dic={\"Monday\":\"月曜日\",\n",
    "             \"Tueday\":\"火曜日\",\n",
    "             \"Wednesday\":\"水曜日\",\n",
    "             \"Thrusday\":\"木曜日\",\n",
    "             \"Friday\":\"金曜日\",\n",
    "             \"Saturday\":\"土曜日\",\n",
    "             \"Sunday\":\"日曜日\"\n",
    "            }\n",
    "#查字典吧\n",
    "print(Chinese_dic[\"Monday\"])\n",
    "print(Japanese_dic[\"Monday\"])"
   ]
  },
  {
   "cell_type": "code",
   "execution_count": 11,
   "metadata": {
    "scrolled": true
   },
   "outputs": [
    {
     "name": "stdout",
     "output_type": "stream",
     "text": [
      "\n",
      "-------決勝21點-------\n",
      "\n",
      "\n",
      "####\n",
      "\n",
      "莊家： K \n",
      "玩家： A \n",
      "\n",
      "####\n",
      "\n",
      "莊家： K X \n",
      "玩家： A 9 \n",
      "1.加牌 2.結束這回合：1\n",
      "\n",
      "####\n",
      "\n",
      "莊家： K X \n",
      "玩家： A 9 4 \n",
      "1.加牌 2.結束這回合：1\n",
      "\n",
      "####\n",
      "\n",
      "莊家： K X \n",
      "玩家： A 9 4 3 \n",
      "1.加牌 2.結束這回合：2\n",
      "\n",
      "####\n",
      "\n",
      "莊家： K 10 \n",
      "玩家： A 9 4 3 \n",
      "\n",
      "####\n",
      "\n",
      "莊家：20 vs 玩家：17\n",
      "\n",
      "####\n",
      "\n",
      "莊家勝\n"
     ]
    }
   ],
   "source": [
    "#list\n",
    "#Balckjack / 21點\n",
    "\n",
    "import random\n",
    "\n",
    "def show_now(Banker,Player):\n",
    "    print(\"\\n####\\n\")\n",
    "    Banker_str=\"\"\n",
    "    for i in range(len(Banker)):\n",
    "        Banker_str=Banker_str+Banker[i]+\" \"\n",
    "    print(\"莊家： \"+Banker_str)\n",
    "    Player_str=\"\"\n",
    "    for i in range(len(Player)):\n",
    "        Player_str=Player_str+Player[i]+\" \"\n",
    "    print(\"玩家： \"+Player_str)\n",
    "\n",
    "Poker_card = ['A','2','3','4','5','6','7','8','9','10','J','Q','K']\n",
    "credit =     [ 1 , 2 , 3 , 4 , 5 , 6 , 7 , 8 , 9 , 10 , 10, 10, 10]\n",
    "Banker = []\n",
    "Player = []\n",
    "Banker_count = 0\n",
    "Player_count = 0\n",
    "flag = 1\n",
    "\n",
    "print(\"\\n-------決勝21點-------\\n\")\n",
    "#各發第一張牌\n",
    "index = random.randint(0,len(Poker_card)-1) \n",
    "Banker.append(Poker_card[index])\n",
    "Banker_count+=credit[index]\n",
    "\n",
    "index = random.randint(0,len(Poker_card)-1) \n",
    "Player.append(Poker_card[index])\n",
    "Player_count+=credit[index]\n",
    "\n",
    "show_now(Banker,Player)\n",
    "\n",
    "#各發第二張牌\n",
    "index = random.randint(0,len(Poker_card)-1) \n",
    "hole_card = Poker_card[index]\n",
    "Banker.append('X')\n",
    "Banker_count+=credit[index]\n",
    "index = random.randint(0,len(Poker_card)-1) \n",
    "Player.append(Poker_card[index])\n",
    "Player_count+=credit[index]\n",
    "show_now(Banker,Player)\n",
    "\n",
    "while flag:\n",
    "    ans = input(\"1.加牌 2.結束這回合：\")\n",
    "    if Player_count>21 or Banker_count>21:\n",
    "        flag=0\n",
    "    if ans==\"2\":\n",
    "        flag=0\n",
    "    elif ans==\"1\":\n",
    "        index = random.randint(0,len(Poker_card)-1) \n",
    "        Player.append(Poker_card[index])\n",
    "        Player_count+=credit[index]\n",
    "        show_now(Banker,Player)\n",
    "\n",
    "#處理A\n",
    "for i in range(len(Player)):\n",
    "    if Player[i]=='A' and Player_count<=11:\n",
    "        Player_count+=10\n",
    "for i in range(len(Banker)):\n",
    "    if Banker[i]=='A' and Banker_count<=11:\n",
    "        Banker_count+=10  \n",
    "\n",
    "#顯示莊家的暗牌\n",
    "\n",
    "Banker[1]=hole_card\n",
    "show_now(Banker,Player)\n",
    "\n",
    "#計算結果\n",
    "print(\"\\n####\\n\")\n",
    "print(\"莊家：\"+str(Banker_count)+\" vs 玩家：\"+str(Player_count))\n",
    "print(\"\\n####\\n\")\n",
    "if Player_count>21:\n",
    "    print(\"玩家爆牌，莊家勝\")\n",
    "elif Banker_count>21:\n",
    "    print(\"莊家爆牌，玩家勝\")\n",
    "elif Player_count<Banker_count:\n",
    "    print(\"莊家勝\")\n",
    "else:\n",
    "    print(\"玩家勝\")\n",
    "    "
   ]
  },
  {
   "cell_type": "markdown",
   "metadata": {},
   "source": [
    "### 9. 讀寫檔案\n"
   ]
  },
  {
   "cell_type": "code",
   "execution_count": 46,
   "metadata": {},
   "outputs": [],
   "source": [
    "#寫一個新檔案\n",
    "file = open(\"testfile.txt\",\"w\") \n",
    " \n",
    "file.write(\"Let me teach you how to deal with file\\n\") \n",
    "file.write(\"w for write\\n\") \n",
    "file.write(\"r for read\\n\") \n",
    "file.write(\"Got it?\\n\") \n",
    " \n",
    "file.close() "
   ]
  },
  {
   "cell_type": "code",
   "execution_count": 51,
   "metadata": {},
   "outputs": [
    {
     "name": "stdout",
     "output_type": "stream",
     "text": [
      "Let me teach you how to deal with file\n",
      "\n",
      "w for write\n",
      "\n",
      "r for read\n",
      "\n",
      "Got it?\n",
      "\n"
     ]
    }
   ],
   "source": [
    "#讀既有檔案\n",
    "file = open(\"testfile.txt\", \"r\") \n",
    "#print(file.read()) \n",
    "#print(file.read(3))\n",
    "#print(file.readline())\n",
    "#print(file.readline(3))\n",
    "#print(file.readlines())\n",
    "for line in file:\n",
    "    print(line)\n",
    "file.close() "
   ]
  },
  {
   "cell_type": "markdown",
   "metadata": {},
   "source": [
    "### 10.互動元件"
   ]
  },
  {
   "cell_type": "code",
   "execution_count": 12,
   "metadata": {},
   "outputs": [],
   "source": [
    "from IPython.display import display, Markdown, clear_output\n",
    "# widget packages\n",
    "import ipywidgets as widgets\n",
    "\n",
    "text = widgets.Text(\n",
    "       value='在這裡打字',\n",
    "       description='Just Type', )\n",
    "slider = widgets.FloatSlider(\n",
    "         value=50,\n",
    "         min=0,\n",
    "         max=100.0,\n",
    "         step=0.5,)\n",
    "menu = widgets.Dropdown(\n",
    "       options=['Python', 'Java', 'C++'],\n",
    "       value='Python',\n",
    "       description='Language:')\n",
    "checkbox = widgets.Checkbox(\n",
    "           description='Check to order pizza',)\n",
    "button = widgets.Button(description='按我！')"
   ]
  },
  {
   "cell_type": "code",
   "execution_count": 14,
   "metadata": {},
   "outputs": [],
   "source": [
    "#呼叫元件\n",
    "text\n",
    "#slider\n",
    "#menu\n",
    "#checkbox\n",
    "#button\n",
    "\n",
    "#把元件裝在一起\n",
    "V_box = widgets.VBox([text, slider, menu, checkbox ])\n",
    "#V_box\n",
    "\n",
    "H_box = widgets.HBox([text, slider, menu, checkbox ])\n",
    "#H_box\n"
   ]
  },
  {
   "cell_type": "code",
   "execution_count": 15,
   "metadata": {},
   "outputs": [
    {
     "data": {
      "application/vnd.jupyter.widget-view+json": {
       "model_id": "548e3e6383164863ba5fd24b814172b9",
       "version_major": 2,
       "version_minor": 0
      },
      "text/plain": [
       "Tab(children=(VBox(children=(Text(value='在這裡打字', description='Just Type'), FloatSlider(value=50.0, step=0.5), …"
      ]
     },
     "metadata": {},
     "output_type": "display_data"
    }
   ],
   "source": [
    "children = [V_box, H_box]\n",
    "\n",
    "tab = widgets.Tab() \n",
    "tab.children = children\n",
    "tab.set_title(0, '垂直排列')\n",
    "tab.set_title(1, '平行排列')\n",
    "\n",
    "tab"
   ]
  },
  {
   "cell_type": "code",
   "execution_count": 16,
   "metadata": {},
   "outputs": [
    {
     "data": {
      "application/vnd.jupyter.widget-view+json": {
       "model_id": "20c9000c0cc84bcaab537524c08edfbf",
       "version_major": 2,
       "version_minor": 0
      },
      "text/plain": [
       "HBox(children=(Button(description='按我！', style=ButtonStyle()), Button(description='不要按我！', style=ButtonStyle()…"
      ]
     },
     "metadata": {},
     "output_type": "display_data"
    }
   ],
   "source": [
    "button1 = widgets.Button(description='按我！')\n",
    "button2 = widgets.Button(description='不要按我！')\n",
    "out = widgets.Output()\n",
    "def on_button1_clicked(_):\n",
    "      with out:\n",
    "          clear_output()\n",
    "          print('哈哈哈你按了')\n",
    "def on_button2_clicked(_):\n",
    "      with out:\n",
    "          clear_output()\n",
    "          print('好奇心殺死貓 > w <')\n",
    "button1.on_click(on_button1_clicked)\n",
    "button2.on_click(on_button2_clicked)\n",
    "widgets.HBox([button1,button2,out])"
   ]
  },
  {
   "cell_type": "markdown",
   "metadata": {},
   "source": [
    "### 11. Plot with  matplotlib"
   ]
  },
  {
   "cell_type": "code",
   "execution_count": 94,
   "metadata": {},
   "outputs": [
    {
     "data": {
      "image/png": "[encoded data removed]",
      "text/plain": [
       "<Figure size 432x288 with 1 Axes>"
      ]
     },
     "metadata": {
      "needs_background": "light"
     },
     "output_type": "display_data"
    }
   ],
   "source": [
    "import matplotlib.pyplot as plt\n",
    "\n",
    "years = [2018,2019,2020]\n",
    "students =  [1100,2100,3500]\n",
    "\n",
    "plt.plot(years,students)\n",
    "plt.title('Number of students per year')\n",
    "plt.xticks(years)\n",
    "plt.xlabel('Year')\n",
    "plt.ylabel('Number of students')\n",
    "plt.show()"
   ]
  }
 ],
 "metadata": {
  "kernelspec": {
   "display_name": "Python 3",
   "language": "python",
   "name": "python3"
  },
  "language_info": {
   "codemirror_mode": {
    "name": "ipython",
    "version": 3
   },
   "file_extension": ".py",
   "mimetype": "text/x-python",
   "name": "python",
   "nbconvert_exporter": "python",
   "pygments_lexer": "ipython3",
   "version": "3.7.4"
  }
 },
 "nbformat": 4,
 "nbformat_minor": 4
}
