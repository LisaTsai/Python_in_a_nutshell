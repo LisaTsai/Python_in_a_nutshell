{
 "cells": [
  {
   "cell_type": "markdown",
   "metadata": {},
   "source": [
    "![Python Logo](python-logo-master-v3-TM.png)  \n",
    "# 基礎Python教學"
   ]
  },
  {
   "cell_type": "markdown",
   "metadata": {},
   "source": [
    "MIT License. Copyright (c) 2019 LisaTsai in CAVEDU\n",
    "### 1. 輸出文字及註解"
   ]
  },
  {
   "cell_type": "markdown",
   "metadata": {},
   "source": [
    "=============  \n",
    "\n",
    "**print()** 可以幫你把括號中的文字**印出來**  \n",
    "**雙引號(\"\")**裡面放的內容才能被辨識為文字唷!\n",
    "+ 試試看改變文字內容，再執行一次程式"
   ]
  },
  {
   "cell_type": "code",
   "execution_count": 1,
   "metadata": {},
   "outputs": [
    {
     "name": "stdout",
     "output_type": "stream",
     "text": [
      "I like Python!!\n"
     ]
    }
   ],
   "source": [
    "print(\"I like Python!!\")"
   ]
  },
  {
   "cell_type": "markdown",
   "metadata": {},
   "source": [
    "==============  \n",
    "\n",
    "**井字號(#)** 會把它後面的內容**註解**掉，也就是#後面的程式**不會執行**  \n",
    "+ 試試看去掉下方程式中的#，程式就可以執行囉!"
   ]
  },
  {
   "cell_type": "code",
   "execution_count": 5,
   "metadata": {},
   "outputs": [],
   "source": [
    "#print(\"I love cavedu!!\")"
   ]
  },
  {
   "cell_type": "markdown",
   "metadata": {},
   "source": [
    "============== \n",
    "\n",
    "利用**加號(+)**來把文字串起來  \n",
    "+ 試試看改變文字內容，或是將多幾個文字內容串接在一起"
   ]
  },
  {
   "cell_type": "code",
   "execution_count": 8,
   "metadata": {},
   "outputs": [
    {
     "name": "stdout",
     "output_type": "stream",
     "text": [
      "歡迎來到新北市Python課程\n"
     ]
    }
   ],
   "source": [
    "print(\"歡迎\"+\"來到\"+\"新北市Python課程\")"
   ]
  },
  {
   "cell_type": "markdown",
   "metadata": {},
   "source": [
    "==============  \n",
    "\n",
    "使用**星號(*)**做乘法，可以用來**重複同一段文字**  \n",
    "下面的程式可以幫你print出20個連續的o來強調程式有多好玩\n",
    "+ 試試看打上你想要重複的話，例如:\"I love you \"*3000"
   ]
  },
  {
   "cell_type": "code",
   "execution_count": 3,
   "metadata": {},
   "outputs": [
    {
     "name": "stdout",
     "output_type": "stream",
     "text": [
      "Programming is soooooooooooooooooooo fun\n"
     ]
    }
   ],
   "source": [
    "print(\"Programming is s\"+\"o\"*20+\" fun\")"
   ]
  },
  {
   "cell_type": "code",
   "execution_count": 11,
   "metadata": {},
   "outputs": [],
   "source": [
    "#print(\"I love you \"*3000)"
   ]
  },
  {
   "cell_type": "markdown",
   "metadata": {},
   "source": [
    "### 2. 使用變數 (Variable) \n",
    "\n",
    "==============\n",
    "  \n",
    "**變數**就像一個**有標籤的盒子**，你可以在盒子裡放東西，像是**數值或是文字**。  \n",
    "\n",
    "設計好的**變數名稱**就是幫盒子設計**好標籤**，讓未來的自己以及其他人可以瞬間理解這個**變數的用途或意義** \n",
    "  \n",
    "我們可以使用**等號(=)**來**設定**變數這個盒子裡放什麼內容，通常形式如下:  \n",
    "\n",
    "+ **變數名稱 = 要放的值**"
   ]
  },
  {
   "cell_type": "markdown",
   "metadata": {},
   "source": [
    "==============  \n",
    "  \n",
    "結合**print()**來設計一個**加油打氣程式**  \n",
    "+ 試試看將name變數改成放自己的名字 (小提示：將\"Lisa Tsai\"改成自己的名字)"
   ]
  },
  {
   "cell_type": "code",
   "execution_count": 32,
   "metadata": {},
   "outputs": [
    {
     "name": "stdout",
     "output_type": "stream",
     "text": [
      "Lisa Tsai, you can make it!\n"
     ]
    }
   ],
   "source": [
    "name = \"Lisa Tsai\"\n",
    "print(name + \", you can make it!\")"
   ]
  },
  {
   "cell_type": "markdown",
   "metadata": {},
   "source": [
    "==============\n",
    "\n",
    "設計一個**計算BMI**的程式 \n",
    "\n",
    "在結合文字跟數值一起print出來時，要先使用**str()**將**數值轉換成文字**"
   ]
  },
  {
   "cell_type": "code",
   "execution_count": 44,
   "metadata": {},
   "outputs": [
    {
     "name": "stdout",
     "output_type": "stream",
     "text": [
      "你的BMI值: 21.528849410967673\n"
     ]
    }
   ],
   "source": [
    "height = 1.63 #以公尺為單位\n",
    "weight = 57.2 #以公斤為單位\n",
    "BMI = weight/(height*height)\n",
    "print(\"你的BMI值: \"+str(BMI))"
   ]
  },
  {
   "cell_type": "markdown",
   "metadata": {},
   "source": [
    "+ 希望有小數點以下的數字可以四捨五入到某一個位數時，可以使用**round(數值, 第幾位數)**做**四捨五入**"
   ]
  },
  {
   "cell_type": "code",
   "execution_count": 45,
   "metadata": {},
   "outputs": [
    {
     "name": "stdout",
     "output_type": "stream",
     "text": [
      "你的BMI值: 21.53\n"
     ]
    }
   ],
   "source": [
    "print(\"你的BMI值: \"+str(round(BMI,2)))"
   ]
  },
  {
   "cell_type": "markdown",
   "metadata": {},
   "source": [
    "### 3. 使用者輸入文字"
   ]
  },
  {
   "cell_type": "markdown",
   "metadata": {},
   "source": [
    "==============  \n",
    "  \n",
    "**input()**可以**讀取使用者輸入**的單行文字內容 \n",
    "\n",
    " \n",
    "+ 試著設計一個問題讓使用者回答，並根據使用者的回答做出相應的回覆"
   ]
  },
  {
   "cell_type": "markdown",
   "metadata": {},
   "source": [
    "==============  \n",
    "\n",
    "設計一個**歡迎使用者的程式**\n",
    "\n",
    "在這個程式中**name**這個變數用來儲存**input()**讀取到的使用者輸入值\n"
   ]
  },
  {
   "cell_type": "code",
   "execution_count": 50,
   "metadata": {},
   "outputs": [
    {
     "name": "stdout",
     "output_type": "stream",
     "text": [
      "What is your name?\n"
     ]
    },
    {
     "name": "stdin",
     "output_type": "stream",
     "text": [
      " Lisa Tsai\n"
     ]
    },
    {
     "name": "stdout",
     "output_type": "stream",
     "text": [
      "Welcome, Lisa Tsai\n"
     ]
    }
   ],
   "source": [
    "print(\"What is your name?\")\n",
    "name = input()\n",
    "print(\"Welcome, \"+name)"
   ]
  },
  {
   "cell_type": "markdown",
   "metadata": {},
   "source": [
    "==============\n",
    "  \n",
    "設定一個**加法計算程式**  \n",
    "\n",
    "在這個程式中，由於**input()**所得到的內容是文字，要使用**int()**將**文字轉換為數字**才能做加減乘除  \n",
    "要使用**print()**輸出的時候又要將計算結果用**str()**轉換回文字才能輸出\n",
    "+ 思考一下，最後一行的加號那幾個是連結文字用，哪幾個是計算數字的累加"
   ]
  },
  {
   "cell_type": "code",
   "execution_count": 49,
   "metadata": {},
   "outputs": [
    {
     "name": "stdout",
     "output_type": "stream",
     "text": [
      "Please enter the first number:\n"
     ]
    },
    {
     "name": "stdin",
     "output_type": "stream",
     "text": [
      " 76\n"
     ]
    },
    {
     "name": "stdout",
     "output_type": "stream",
     "text": [
      "Please enter the second number:\n"
     ]
    },
    {
     "name": "stdin",
     "output_type": "stream",
     "text": [
      " 97\n"
     ]
    },
    {
     "name": "stdout",
     "output_type": "stream",
     "text": [
      "76+97=173\n"
     ]
    }
   ],
   "source": [
    "print(\"Please enter the first number:\")\n",
    "A = input()\n",
    "print(\"Please enter the second number:\")\n",
    "B = input()\n",
    "print(A+\"+\"+B+\"=\"+str(int(A)+int(B)))"
   ]
  },
  {
   "cell_type": "markdown",
   "metadata": {},
   "source": [
    "### 4. 數學"
   ]
  },
  {
   "cell_type": "markdown",
   "metadata": {},
   "source": [
    "==============  \n",
    "\n",
    "在Python中想要做數字的**四則運算**，主要要用到**加(+)、減(-)、乘(*)、除(/)**這四個符號  \n",
    "也可以使用**括號()**決定優先順序\n",
    "+ 試試看更改下面算式中的數字"
   ]
  },
  {
   "cell_type": "code",
   "execution_count": 20,
   "metadata": {},
   "outputs": [
    {
     "data": {
      "text/plain": [
       "1368"
      ]
     },
     "execution_count": 20,
     "metadata": {},
     "output_type": "execute_result"
    }
   ],
   "source": [
    "#加法\n",
    "123+456+789"
   ]
  },
  {
   "cell_type": "code",
   "execution_count": 21,
   "metadata": {},
   "outputs": [
    {
     "data": {
      "text/plain": [
       "794"
      ]
     },
     "execution_count": 21,
     "metadata": {},
     "output_type": "execute_result"
    }
   ],
   "source": [
    "#減法\n",
    "1314-520"
   ]
  },
  {
   "cell_type": "code",
   "execution_count": 22,
   "metadata": {},
   "outputs": [
    {
     "data": {
      "text/plain": [
       "99999989999990000001"
      ]
     },
     "execution_count": 22,
     "metadata": {},
     "output_type": "execute_result"
    }
   ],
   "source": [
    "#乘法\n",
    "9999999*9999999999999"
   ]
  },
  {
   "cell_type": "code",
   "execution_count": 23,
   "metadata": {},
   "outputs": [
    {
     "data": {
      "text/plain": [
       "49.0"
      ]
     },
     "execution_count": 23,
     "metadata": {},
     "output_type": "execute_result"
    }
   ],
   "source": [
    "#除法\n",
    "343/7"
   ]
  },
  {
   "cell_type": "code",
   "execution_count": 51,
   "metadata": {},
   "outputs": [
    {
     "data": {
      "text/plain": [
       "3.292682926829268"
      ]
     },
     "execution_count": 51,
     "metadata": {},
     "output_type": "execute_result"
    }
   ],
   "source": [
    "#綜合起來\n",
    "(90+95+62+78+80)/123"
   ]
  },
  {
   "cell_type": "markdown",
   "metadata": {},
   "source": [
    "==============  \n",
    "結合前面學到的**print()、input()**來製作**平均成績計算程式**\n",
    "+ 可以直接把想問的問題內容放在**input()**的括號裡面，這樣問題跟回答框就可以並排\n",
    "+ **\"\\t\"**的功能跟按鍵盤上的tab鍵有一樣的**對齊**功能\n",
    "+ **反斜線(\\)**被稱為**跳脫字元**，不被當作普通文字輸出，跟其他符號或英文字搭配有不同功能"
   ]
  },
  {
   "cell_type": "code",
   "execution_count": 65,
   "metadata": {},
   "outputs": [
    {
     "name": "stdout",
     "output_type": "stream",
     "text": [
      "====期末考成績計算====\n"
     ]
    },
    {
     "name": "stdin",
     "output_type": "stream",
     "text": [
      "請輸入你的國文成績: 98\n",
      "請輸入你的英文成績: 88\n",
      "請輸入你的數學成績: 76\n",
      "請輸入你的自然成績: 84\n",
      "請輸入你的社會成績: 91\n"
     ]
    },
    {
     "name": "stdout",
     "output_type": "stream",
     "text": [
      "====================================\n",
      "國文\t英文\t數學\t自然\t社會\n",
      "98\t88\t76\t84\t91\n",
      "====================================\n",
      "平均分數是 87.4\n"
     ]
    }
   ],
   "source": [
    "print(\"====期末考成績計算====\")\n",
    "Chinese = input(\"請輸入你的國文成績:\")\n",
    "English = input(\"請輸入你的英文成績:\")\n",
    "Math = input(\"請輸入你的數學成績:\")\n",
    "Science = input(\"請輸入你的自然成績:\")\n",
    "Society = input(\"請輸入你的社會成績:\")\n",
    "\n",
    "print(\"====================================\")\n",
    "print(\"國文\\t英文\\t數學\\t自然\\t社會\")\n",
    "print(Chinese+\"\\t\"+English+\"\\t\"+Math+\"\\t\"+Science+\"\\t\"+Society)\n",
    "print(\"====================================\")\n",
    "print(\"平均分數是 \"+str((int(Chinese)+int(English)+int(Math)+int(Science)+int(Society))/5))"
   ]
  },
  {
   "cell_type": "markdown",
   "metadata": {},
   "source": [
    "==============  \n",
    "\n",
    "使用**math函式庫(math library)**\n",
    "\n",
    "**函式庫(library)**就像魔法書，裡面的**函式(function)**就是前人設計完成的不同功能的咒語，讓我們可以用函式來取代原本需要寫的一大串程式，輕鬆達成目的。\n",
    "\n",
    "+ **import 函式庫** 幫助我們匯入需要的函式庫，在後續程式中要應用的時候，**要明確指定使用哪個函式庫中的哪個函式**，ex. math.gcd(2,3)\n",
    "+ **from 函式庫 import*** 在這裡**星號(*)代表all**，將所有函式庫的函式都匯入，在後續程式中藥應用的時候，**只需要呼叫函式名稱**即可。這個方法有危險性，如果你同時使用好幾個函式庫，可能會遇到不同函式庫中名稱相同的函式，使用起來會很麻煩\n",
    "+ **from 函式庫 import 你打算用的函式(若有多個，用逗號分隔)** 僅匯入要用的函式，在後續程式中藥應用的時候，**只需要呼叫函式名稱**即可。 \n",
    "\n",
    "除了簡單的數字運算，當我們需要進一步的功能，就要仰賴math函式庫提供我們已經寫好的數學運算函式。\n"
   ]
  },
  {
   "cell_type": "code",
   "execution_count": 66,
   "metadata": {},
   "outputs": [],
   "source": [
    "import math\n",
    "###from math import *\n",
    "###from math import gcd, remainder, pow"
   ]
  },
  {
   "cell_type": "markdown",
   "metadata": {},
   "source": [
    "==============  \n",
    "\n",
    "使用math函式庫裡的π"
   ]
  },
  {
   "cell_type": "code",
   "execution_count": 67,
   "metadata": {},
   "outputs": [
    {
     "name": "stdout",
     "output_type": "stream",
     "text": [
      "3.141592653589793\n"
     ]
    }
   ],
   "source": [
    "print (math.pi)"
   ]
  },
  {
   "cell_type": "markdown",
   "metadata": {},
   "source": [
    "==============  \n",
    "\n",
    "**gcd(a, b)**用於計算a&b兩個數字的最大公因數  \n",
    "\n",
    "**\"\\n\"**在程式中為換行符號，一樣使用了**跳脫字元(\\\\)**\n",
    "\n",
    "+ 試試看把\"\\n\"放在不同位置"
   ]
  },
  {
   "cell_type": "code",
   "execution_count": 69,
   "metadata": {},
   "outputs": [
    {
     "name": "stdout",
     "output_type": "stream",
     "text": [
      "\n",
      "240跟96的最大公因數為\n",
      "48\n"
     ]
    }
   ],
   "source": [
    "print(\"\\n240跟96的最大公因數為\")\n",
    "print(math.gcd(240, 96))\n",
    "###print(gcd(240, 96))"
   ]
  },
  {
   "cell_type": "markdown",
   "metadata": {},
   "source": [
    "==============  \n",
    "\n",
    "**remainder(a, b)**用於計算a除以b的餘數  "
   ]
  },
  {
   "cell_type": "code",
   "execution_count": 73,
   "metadata": {},
   "outputs": [
    {
     "name": "stdout",
     "output_type": "stream",
     "text": [
      "\n",
      "783除以10的餘數為\n",
      "\n",
      "3.0\n"
     ]
    }
   ],
   "source": [
    "print(\"\\n783除以10的餘數為\\n\")\n",
    "print(math.remainder(783, 10))\n",
    "###print(remainder(783, 10))"
   ]
  },
  {
   "cell_type": "markdown",
   "metadata": {},
   "source": [
    "==============  \n",
    "\n",
    "**pow(a, b)**用於計算a的b次方  \n",
    "\n",
    "另一種不用pow(a, b)的寫法為 __a ** b__"
   ]
  },
  {
   "cell_type": "code",
   "execution_count": 77,
   "metadata": {},
   "outputs": [
    {
     "name": "stdout",
     "output_type": "stream",
     "text": [
      "\n",
      "2的十次方為 1024.0\n",
      "\n"
     ]
    }
   ],
   "source": [
    "print(\"\\n2的十次方為 \"+str(math.pow(2, 10))+\"\\n\") \n",
    "###print(\"\\n2的十次方為 \"+str(pow(2, 10))) "
   ]
  },
  {
   "cell_type": "code",
   "execution_count": 79,
   "metadata": {},
   "outputs": [
    {
     "name": "stdout",
     "output_type": "stream",
     "text": [
      "\n",
      "2的十次方為 1024\n",
      "\n"
     ]
    }
   ],
   "source": [
    "print(\"\\n2的十次方為 \"+str(2**10)+\"\\n\") "
   ]
  },
  {
   "cell_type": "markdown",
   "metadata": {},
   "source": [
    "==============  \n",
    "\n",
    "設計一個**計算定存利息及本金的程式**  \n",
    "\n",
    "+ 試試看修改變數內容計算不同情況下的定存本利和"
   ]
  },
  {
   "cell_type": "code",
   "execution_count": 35,
   "metadata": {},
   "outputs": [
    {
     "name": "stdout",
     "output_type": "stream",
     "text": [
      "\n",
      "一百萬元三年後的本利和為\n",
      "1030301.0000000001\n"
     ]
    }
   ],
   "source": [
    "money = 1000000 #假設本金為100萬\n",
    "year = 3 #假設定存三年\n",
    "rate = 1.01 #假設定存年利率為1%\n",
    "print(\"\\n一百萬元三年後的本利和為\")\n",
    "print(money*math.pow(1.01,3))"
   ]
  },
  {
   "cell_type": "markdown",
   "metadata": {},
   "source": [
    "### 5. if/else 判斷式  \n",
    "\n",
    "==============\n",
    "\n",
    "**if...else...**是**如果...否則...**，用來根據條件來判斷要怎麼做\n",
    "\n",
    "![if/else構圖](ifelse.png)  \n",
    "![冷氣範例](ACexample.png)  \n",
    "\n",
    "python有嚴格的格式規定，像if/else判斷式這種有**不同層級**的情況下，請在下一層的程式碼前面打**四個空格**或是**按tab鍵對齊**  \n",
    "\n",
    "\n",
    "設計一個**非開放式的問題**，讓使用者輸入回答，並根據回答執行對應的程式"
   ]
  },
  {
   "cell_type": "code",
   "execution_count": 81,
   "metadata": {},
   "outputs": [
    {
     "name": "stdin",
     "output_type": "stream",
     "text": [
      "你喜歡Python嗎?(yes/no) yes\n"
     ]
    },
    {
     "name": "stdout",
     "output_type": "stream",
     "text": [
      "太棒了!\n"
     ]
    }
   ],
   "source": [
    "answer = input(\"你喜歡Python嗎?(yes/no)\")\n",
    "if answer == \"yes\":\n",
    "    print(\"太棒了!\")\n",
    "else:\n",
    "    print(\"你說什麼，我聽不懂?\")"
   ]
  },
  {
   "cell_type": "markdown",
   "metadata": {},
   "source": [
    "==============\n",
    "\n",
    "**不只兩種情況**的時候，加入**elif**(else if的縮寫)來增加情況數量。\n",
    "    \n",
    "設計一個**運勢程式**，讓使用者可以輸入任意數字看自己的運勢"
   ]
  },
  {
   "cell_type": "code",
   "execution_count": 80,
   "metadata": {},
   "outputs": [
    {
     "name": "stdin",
     "output_type": "stream",
     "text": [
      "隨機輸入你今日的幸運數字: 777\n"
     ]
    },
    {
     "name": "stdout",
     "output_type": "stream",
     "text": [
      "大吉大利，今晚吃雞\n"
     ]
    }
   ],
   "source": [
    "#運勢\n",
    "lucky_number = input(\"隨機輸入你今日的幸運數字:\")\n",
    "if int(lucky_number)%3==0:\n",
    "    print(\"大吉大利，今晚吃雞\")\n",
    "elif int(lucky_number)%3==1:\n",
    "    print(\"本日小吉，不會被吉\")\n",
    "else:\n",
    "    print(\"本日你會遇到阿吉\")\n"
   ]
  },
  {
   "cell_type": "markdown",
   "metadata": {},
   "source": [
    "==============  \n",
    "\n",
    "**今天的課程到這裡結束，有任何問題歡迎詢問!**\n"
   ]
  }
 ],
 "metadata": {
  "kernelspec": {
   "display_name": "Python 3",
   "language": "python",
   "name": "python3"
  },
  "language_info": {
   "codemirror_mode": {
    "name": "ipython",
    "version": 3
   },
   "file_extension": ".py",
   "mimetype": "text/x-python",
   "name": "python",
   "nbconvert_exporter": "python",
   "pygments_lexer": "ipython3",
   "version": "3.7.4"
  }
 },
 "nbformat": 4,
 "nbformat_minor": 4
}
