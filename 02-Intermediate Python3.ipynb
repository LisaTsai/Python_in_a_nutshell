{
 "cells": [
  {
   "cell_type": "markdown",
   "metadata": {},
   "source": [
    "![Python Logo](python-logo-master-v3-TM.png)  \n",
    "# 用Python製作互動程式"
   ]
  },
  {
   "cell_type": "markdown",
   "metadata": {},
   "source": [
    "MIT License. Copyright (c) 2019 LisaTsai in CAVEDU\n",
    "### 1. if/else 條件式  \n",
    "\n",
    "==============\n"
   ]
  },
  {
   "cell_type": "markdown",
   "metadata": {},
   "source": [
    "**if**是**如果**。  \n",
    "如果條件符合，就做符合條件時要做的事。\n",
    "\n",
    "<pre>\n",
    "if 條件：  \n",
    "    符合條件就執行的事\n",
    "</pre>\n",
    "python有嚴格的格式規定，像if/else條件式這種有**不同層級**的情況下，請在下一層的程式碼前面打**四個空格**或是**按tab鍵對齊**  \n",
    "\n",
    "+ 結合上堂課所學，設計一個**BMI計算程式**，並根據情況給予貼心小提醒！"
   ]
  },
  {
   "cell_type": "code",
   "execution_count": 10,
   "metadata": {},
   "outputs": [
    {
     "name": "stdout",
     "output_type": "stream",
     "text": [
      "你的BMI值: 21.980503594414543\n",
      "還是要運動XD\n"
     ]
    }
   ],
   "source": [
    "height = 1.63 #以公尺為單位\n",
    "weight = 58.4 #以公斤為單位\n",
    "\n",
    "BMI = weight/(height*height)\n",
    "\n",
    "print(\"你的BMI值: \"+str(BMI))\n",
    "\n",
    "if BMI > 24:\n",
    "    print(\"一起來運動吧！\")\n",
    "if BMI <= 24:\n",
    "    print(\"還是要運動XD\")"
   ]
  },
  {
   "cell_type": "markdown",
   "metadata": {},
   "source": [
    "==============\n",
    "\n",
    "**if...else...**是**如果...否則...**，用來根據條件來判斷要怎麼做\n",
    "<pre>\n",
    "if 條件：\n",
    "    符合條件就執行的事\n",
    "else:\n",
    "    不符合條件就執行的事\n",
    "</pre>\n",
    "+ 修改BMI計算程式，根據**有無符合條件**來給予對應的貼心小提醒！\n",
    "+ 猜猜看，用**兩個if**跟**用if/else**有什麼差別?"
   ]
  },
  {
   "cell_type": "code",
   "execution_count": 3,
   "metadata": {},
   "outputs": [
    {
     "name": "stdout",
     "output_type": "stream",
     "text": [
      "你的BMI值: 21.980503594414543\n",
      "還是要運動XD\n"
     ]
    }
   ],
   "source": [
    "height = 1.63 #以公尺為單位\n",
    "weight = 58.4 #以公斤為單位\n",
    "\n",
    "BMI = weight/(height*height)\n",
    "\n",
    "print(\"你的BMI值: \"+str(BMI))\n",
    "\n",
    "if BMI > 24:\n",
    "    print(\"一起來運動吧！\")\n",
    "else:\n",
    "    print(\"還是要運動XD\")"
   ]
  },
  {
   "cell_type": "markdown",
   "metadata": {},
   "source": [
    "\n",
    "==============\n",
    "\n",
    "**if...elif...else...**是**如果（條件一）...如果（條件二）...否則...**，用來檢查有沒有符合**不同條件**，來判斷要怎麼做\n",
    "<pre>\n",
    "if 條件一：\n",
    "    符合條件一就執行的事\n",
    "elif 條件二：\n",
    "    符合條件二就執行的事\n",
    "else:\n",
    "    不符合以上條件就執行的事\n",
    "</pre>\n",
    "+ 修改BMI計算程式，根據**有無符合不同條件**來給予對應的貼心小提醒！\n",
    "+ 思考一下，**條件順序不同**時會不會**結果不同**"
   ]
  },
  {
   "cell_type": "code",
   "execution_count": 9,
   "metadata": {},
   "outputs": [
    {
     "name": "stdout",
     "output_type": "stream",
     "text": [
      "你的BMI值: 21.980503594414543\n",
      "你很棒，繼續維持！\n"
     ]
    }
   ],
   "source": [
    "height = 1.63 #以公尺為單位\n",
    "weight = 58.4 #以公斤為單位\n",
    "\n",
    "BMI = weight/(height*height)\n",
    "\n",
    "print(\"你的BMI值: \"+str(BMI))\n",
    "\n",
    "if BMI > 24:\n",
    "    print(\"一起來運動吧！\")\n",
    "elif BMI < 18.5:\n",
    "    print(\"可以多吃一點～\")\n",
    "else:\n",
    "    print(\"你很棒，繼續維持！\")"
   ]
  },
  {
   "cell_type": "markdown",
   "metadata": {},
   "source": [
    "==============\n",
    "\n",
    "將BMI指數分成三個區塊以上時，可以使用**if...elif...elif...else...**是**如果（條件一）...如果（條件二）...如果（條件三）...否則...**\n",
    "\n",
    "<pre>\n",
    "if 條件一：\n",
    "    符合條件一就執行的事\n",
    "elif 條件二：\n",
    "    符合條件二就執行的事\n",
    "elif 條件三：\n",
    "    符合條件三就執行的事\n",
    "else:\n",
    "    不符合以上條件就執行的事\n",
    "</pre>\n",
    "若有需要更多條件，則以此類推！\n",
    "\n",
    "+ 試試看將身高體重都改成使用者輸入吧！\n",
    "+ 加入新的條件：BMI > 35"
   ]
  },
  {
   "cell_type": "code",
   "execution_count": 6,
   "metadata": {},
   "outputs": [
    {
     "name": "stdout",
     "output_type": "stream",
     "text": [
      "你的BMI值: 21.980503594414543\n",
      "你很棒，繼續維持！\n"
     ]
    }
   ],
   "source": [
    "height = 1.63 #以公尺為單位\n",
    "weight = 58.4 #以公斤為單位\n",
    "\n",
    "BMI = weight/(height*height)\n",
    "\n",
    "print(\"你的BMI值: \"+str(BMI))\n",
    "\n",
    "if BMI > 35:\n",
    "    print(\"警訊！要注意身體健康！\")\n",
    "elif BMI > 24:\n",
    "    print(\"一起來運動吧！\")\n",
    "elif BMI < 18.5:\n",
    "    print(\"可以多吃一點～\")\n",
    "else:\n",
    "    print(\"你很棒，繼續維持！\")"
   ]
  },
  {
   "cell_type": "markdown",
   "metadata": {},
   "source": [
    "==============\n",
    "+ 設計一個**運勢程式**，讓使用者可以**輸入任意數字**看自己的運勢\n",
    "\n",
    "+ 設計一個**非開放式的問題**，讓使用者輸入回答，並根據回答執行對應的程式"
   ]
  },
  {
   "cell_type": "code",
   "execution_count": 29,
   "metadata": {},
   "outputs": [
    {
     "name": "stdout",
     "output_type": "stream",
     "text": [
      "隨機輸入你今日的幸運數字:777\n",
      "大吉大利，今晚吃雞\n"
     ]
    }
   ],
   "source": [
    "lucky_number = input(\"隨機輸入你今日的幸運數字:\")\n",
    "\n",
    "if int(lucky_number)%3==0:\n",
    "    print(\"大吉大利，今晚吃雞\")\n",
    "elif int(lucky_number)%3==1:\n",
    "    print(\"本日小吉，不會被吉\")\n",
    "else:\n",
    "    print(\"本日吉。\")"
   ]
  },
  {
   "cell_type": "markdown",
   "metadata": {},
   "source": [
    "==============\n",
    "\n",
    "如果想要符合兩個條件怎麼辦？\n",
    "使用**邏輯運算子**（Logical operator）:\n",
    "<pre>\n",
    "    and     (且)    需要兩個條件都符合時使用\n",
    "    or      (或)    兩個條件只要符合一個就可以時使用\n",
    "    not     (非)    不要符合這個條件時使用\n",
    "</pre>\n",
    "\n",
    "+ 用**布林值**（Boolean）- **True/False**來練習一下吧！"
   ]
  },
  {
   "cell_type": "code",
   "execution_count": 7,
   "metadata": {},
   "outputs": [
    {
     "name": "stdout",
     "output_type": "stream",
     "text": [
      "True\n"
     ]
    }
   ],
   "source": [
    "print(True)"
   ]
  },
  {
   "cell_type": "code",
   "execution_count": 8,
   "metadata": {},
   "outputs": [
    {
     "name": "stdout",
     "output_type": "stream",
     "text": [
      "False\n"
     ]
    }
   ],
   "source": [
    "print(False)"
   ]
  },
  {
   "cell_type": "code",
   "execution_count": 9,
   "metadata": {},
   "outputs": [
    {
     "name": "stdout",
     "output_type": "stream",
     "text": [
      "True\n"
     ]
    }
   ],
   "source": [
    "print(True and True)"
   ]
  },
  {
   "cell_type": "code",
   "execution_count": 10,
   "metadata": {},
   "outputs": [
    {
     "name": "stdout",
     "output_type": "stream",
     "text": [
      "False\n"
     ]
    }
   ],
   "source": [
    "print(True and False)"
   ]
  },
  {
   "cell_type": "code",
   "execution_count": 11,
   "metadata": {},
   "outputs": [
    {
     "name": "stdout",
     "output_type": "stream",
     "text": [
      "False\n"
     ]
    }
   ],
   "source": [
    "print(False and False)"
   ]
  },
  {
   "cell_type": "code",
   "execution_count": 14,
   "metadata": {},
   "outputs": [
    {
     "name": "stdout",
     "output_type": "stream",
     "text": [
      "True\n"
     ]
    }
   ],
   "source": [
    "print(True or True)"
   ]
  },
  {
   "cell_type": "code",
   "execution_count": 12,
   "metadata": {},
   "outputs": [
    {
     "name": "stdout",
     "output_type": "stream",
     "text": [
      "True\n"
     ]
    }
   ],
   "source": [
    "print(True or False)"
   ]
  },
  {
   "cell_type": "code",
   "execution_count": 13,
   "metadata": {},
   "outputs": [
    {
     "name": "stdout",
     "output_type": "stream",
     "text": [
      "False\n"
     ]
    }
   ],
   "source": [
    "print(False or False)"
   ]
  },
  {
   "cell_type": "code",
   "execution_count": 15,
   "metadata": {},
   "outputs": [
    {
     "name": "stdout",
     "output_type": "stream",
     "text": [
      "False\n"
     ]
    }
   ],
   "source": [
    "print(not True)"
   ]
  },
  {
   "cell_type": "code",
   "execution_count": 16,
   "metadata": {},
   "outputs": [
    {
     "name": "stdout",
     "output_type": "stream",
     "text": [
      "True\n"
     ]
    }
   ],
   "source": [
    "print(not False)"
   ]
  },
  {
   "cell_type": "markdown",
   "metadata": {},
   "source": [
    "==============  \n",
    "\n",
    "+ 實戰 - 使用and合併條件!\n",
    "+ 試試看其他邏輯運算子"
   ]
  },
  {
   "cell_type": "code",
   "execution_count": 17,
   "metadata": {},
   "outputs": [
    {
     "name": "stdout",
     "output_type": "stream",
     "text": [
      "你的BMI值: 21.980503594414543\n",
      "你很棒，繼續維持！\n"
     ]
    }
   ],
   "source": [
    "height = 1.63 #以公尺為單位\n",
    "weight = 58.4 #以公斤為單位\n",
    "\n",
    "BMI = weight/(height*height)\n",
    "\n",
    "print(\"你的BMI值: \"+str(BMI))\n",
    "\n",
    "if BMI < 24 and BMI > 18.5:\n",
    "    print(\"你很棒，繼續維持！\")"
   ]
  },
  {
   "cell_type": "markdown",
   "metadata": {},
   "source": [
    "==============  \n",
    "\n",
    "+ 使用**type(變數)**檢查變數類型"
   ]
  },
  {
   "cell_type": "code",
   "execution_count": 19,
   "metadata": {},
   "outputs": [
    {
     "name": "stdout",
     "output_type": "stream",
     "text": [
      "<class 'float'>\n"
     ]
    }
   ],
   "source": [
    "print(type(height))"
   ]
  },
  {
   "cell_type": "code",
   "execution_count": 23,
   "metadata": {},
   "outputs": [
    {
     "name": "stdout",
     "output_type": "stream",
     "text": [
      "<class 'str'>\n"
     ]
    }
   ],
   "source": [
    "print(type(str(height)))"
   ]
  },
  {
   "cell_type": "code",
   "execution_count": 24,
   "metadata": {},
   "outputs": [
    {
     "name": "stdout",
     "output_type": "stream",
     "text": [
      "<class 'bool'>\n"
     ]
    }
   ],
   "source": [
    "print(type(True))"
   ]
  },
  {
   "cell_type": "code",
   "execution_count": 25,
   "metadata": {},
   "outputs": [
    {
     "name": "stdout",
     "output_type": "stream",
     "text": [
      "<class 'int'>\n"
     ]
    }
   ],
   "source": [
    "print(type(100))"
   ]
  },
  {
   "cell_type": "markdown",
   "metadata": {},
   "source": [
    "### 2.  while/for 迴圈 (Loop)"
   ]
  },
  {
   "cell_type": "markdown",
   "metadata": {},
   "source": [
    "**while迴圈** 跟 **for迴圈**可以重複相同的步驟。\n",
    "while迴圈的撰寫格式如下：\n",
    "<pre>\n",
    "while 需要符合的條件：\n",
    "    符合條件的情況下要做的事\n",
    "</pre>\n",
    "\n",
    "+ 思考一下，下列程式哪些部分會**反覆執行**，哪些部分**只執行一次**？"
   ]
  },
  {
   "cell_type": "code",
   "execution_count": 36,
   "metadata": {},
   "outputs": [
    {
     "name": "stdout",
     "output_type": "stream",
     "text": [
      "0\n",
      "1\n",
      "2\n",
      "Done\n"
     ]
    }
   ],
   "source": [
    "i = 0\n",
    "\n",
    "while i < 3:\n",
    "    print(i)\n",
    "    i=i+1\n",
    "    #也可以寫成i+=1\n",
    "print(\"Done\")"
   ]
  },
  {
   "cell_type": "code",
   "execution_count": 2,
   "metadata": {},
   "outputs": [
    {
     "name": "stdout",
     "output_type": "stream",
     "text": [
      "Do you like Python?(YES/NO)yes\n",
      "很好\n"
     ]
    }
   ],
   "source": [
    "flag = 0\n",
    "\n",
    "while flag:\n",
    "    print(\"你說什麼？\")\n",
    "    answer = input(\"Do you like Python?(YES/NO)\") \n",
    "print(\"很好\")\n"
   ]
  },
  {
   "cell_type": "markdown",
   "metadata": {},
   "source": [
    "==============\n",
    "\n",
    "補充：下方為常看見的while迴圈用法，**while後面接True**就代表程式會一直執行**要反覆做的事**。如果**結束條件**成立，會使用**break**來跳出while迴圈，執行迴圈外的程式。\n",
    "<pre>\n",
    "while True:\n",
    "    要反覆做的事\n",
    "    if 結束條件:\n",
    "        break\n",
    "</pre>    \n",
    "\n",
    "\n",
    "也可以使用**continue**來跳過該次迴圈中continue後面的內容，接續執行下一迴圈的程式內容。"
   ]
  },
  {
   "cell_type": "markdown",
   "metadata": {},
   "source": [
    "==============  \n",
    "\n",
    "for 迴圈的撰寫格式如下：\n",
    "\n",
    "<pre>\n",
    "for 變數 in range(終止數值)：\n",
    "    要執行的事\n",
    "</pre>\n",
    "\n",
    "+ 試試看寫一個輸出0~9的程式\n"
   ]
  },
  {
   "cell_type": "code",
   "execution_count": 30,
   "metadata": {},
   "outputs": [
    {
     "name": "stdout",
     "output_type": "stream",
     "text": [
      "0\n",
      "1\n",
      "2\n",
      "3\n",
      "4\n",
      "5\n",
      "6\n",
      "7\n",
      "8\n",
      "9\n"
     ]
    }
   ],
   "source": [
    "for i in range(10):\n",
    "    print(i)"
   ]
  },
  {
   "cell_type": "markdown",
   "metadata": {},
   "source": [
    "==============  \n",
    "\n",
    "加入**起始數值**\n",
    "<pre>\n",
    "for 變數 in range(起始數值, 終止數值)：\n",
    "    要執行的事\n",
    "</pre>\n",
    "\n",
    "+ 試試看寫一個輸出1~10的程式"
   ]
  },
  {
   "cell_type": "code",
   "execution_count": 32,
   "metadata": {},
   "outputs": [
    {
     "name": "stdout",
     "output_type": "stream",
     "text": [
      "1\n",
      "2\n",
      "3\n",
      "4\n",
      "5\n",
      "6\n",
      "7\n",
      "8\n",
      "9\n",
      "10\n"
     ]
    }
   ],
   "source": [
    "for j in range(1, 11):\n",
    "    print(j)"
   ]
  },
  {
   "cell_type": "markdown",
   "metadata": {},
   "source": [
    "==============  \n",
    "\n",
    "加入**遞增/遞減值**\n",
    "<pre>\n",
    "for 變數 in range(起始數值, 終止數值, 遞增/遞減值)：\n",
    "    要執行的事\n",
    "</pre>\n",
    "\n",
    "+ 試試看寫一個輸出倒數計時的程式"
   ]
  },
  {
   "cell_type": "code",
   "execution_count": 35,
   "metadata": {},
   "outputs": [
    {
     "name": "stdout",
     "output_type": "stream",
     "text": [
      "10\n",
      "9\n",
      "8\n",
      "7\n",
      "6\n",
      "5\n",
      "4\n",
      "3\n",
      "2\n",
      "1\n",
      "新年快樂！\n"
     ]
    }
   ],
   "source": [
    "for k in range(10, 0, -1):\n",
    "    print(k)\n",
    "print(\"新年快樂！\")"
   ]
  },
  {
   "cell_type": "markdown",
   "metadata": {},
   "source": [
    "==============  \n",
    "\n",
    "層層疊疊的for迴圈又被稱作為**巢狀結構**\n",
    "\n",
    "+ 試試看利用雙重for迴圈製作99乘法表"
   ]
  },
  {
   "cell_type": "code",
   "execution_count": 2,
   "metadata": {},
   "outputs": [
    {
     "name": "stdout",
     "output_type": "stream",
     "text": [
      "1x1=1\t1x2=2\t1x3=3\t1x4=4\t1x5=5\t1x6=6\t1x7=7\t1x8=8\t1x9=9\t\n",
      "2x1=2\t2x2=4\t2x3=6\t2x4=8\t2x5=10\t2x6=12\t2x7=14\t2x8=16\t2x9=18\t\n",
      "3x1=3\t3x2=6\t3x3=9\t3x4=12\t3x5=15\t3x6=18\t3x7=21\t3x8=24\t3x9=27\t\n",
      "4x1=4\t4x2=8\t4x3=12\t4x4=16\t4x5=20\t4x6=24\t4x7=28\t4x8=32\t4x9=36\t\n",
      "5x1=5\t5x2=10\t5x3=15\t5x4=20\t5x5=25\t5x6=30\t5x7=35\t5x8=40\t5x9=45\t\n",
      "6x1=6\t6x2=12\t6x3=18\t6x4=24\t6x5=30\t6x6=36\t6x7=42\t6x8=48\t6x9=54\t\n",
      "7x1=7\t7x2=14\t7x3=21\t7x4=28\t7x5=35\t7x6=42\t7x7=49\t7x8=56\t7x9=63\t\n",
      "8x1=8\t8x2=16\t8x3=24\t8x4=32\t8x5=40\t8x6=48\t8x7=56\t8x8=64\t8x9=72\t\n",
      "9x1=9\t9x2=18\t9x3=27\t9x4=36\t9x5=45\t9x6=54\t9x7=63\t9x8=72\t9x9=81\t\n"
     ]
    }
   ],
   "source": [
    "for i in range(1,10):\n",
    "    #建立空字串\n",
    "    string99 = \"\"\n",
    "    \n",
    "    for j in range(1,10):\n",
    "        #\\t代表tab鍵\n",
    "        #將1~9接在字串後面\n",
    "        string99=string99+str(i)+\"x\"+str(j)+\"=\"+str(i*j)+\"\\t\"\n",
    "    #印出字串\n",
    "    print(string99)"
   ]
  },
  {
   "cell_type": "markdown",
   "metadata": {},
   "source": [
    "============== \n",
    "\n",
    "for迴圈也可以利用**字串中的字元**：\n",
    "\n",
    "還有搭配清單(List)的用法，下次上課會介紹唷！\n",
    "\n",
    "撰寫格式如下：\n",
    "<pre>\n",
    "for 變數 in 字串或是清單：\n",
    "    要執行的事\n",
    "</pre>\n",
    "+ 使用print()將字串中的每個字元印出來"
   ]
  },
  {
   "cell_type": "code",
   "execution_count": 38,
   "metadata": {},
   "outputs": [
    {
     "name": "stdout",
     "output_type": "stream",
     "text": [
      "C\n",
      "A\n",
      "V\n",
      "E\n",
      "D\n",
      "U\n"
     ]
    }
   ],
   "source": [
    "for c in \"CAVEDU\":\n",
    "    print(c)"
   ]
  },
  {
   "cell_type": "markdown",
   "metadata": {},
   "source": [
    "==============  \n",
    "\n",
    "+ 複習一下剛剛的break吧！"
   ]
  },
  {
   "cell_type": "code",
   "execution_count": 39,
   "metadata": {},
   "outputs": [
    {
     "name": "stdout",
     "output_type": "stream",
     "text": [
      "C\n",
      "A\n",
      "V\n",
      "E\n"
     ]
    }
   ],
   "source": [
    "for c in \"CAVEDU\":\n",
    "    if c == \"D\":\n",
    "        break\n",
    "    print(c)"
   ]
  },
  {
   "cell_type": "markdown",
   "metadata": {},
   "source": [
    "### 3. 定義可以呼叫的函式 (function)\n"
   ]
  },
  {
   "cell_type": "markdown",
   "metadata": {},
   "source": [
    "定義函式要使用**def陳述句**來定義\n",
    "常見格式如下：\n",
    "<pre>\n",
    "def 函式名稱（指定的變數）：\n",
    "    要執行的內容\n",
    "    return 要返回的值\n",
    "</pre>\n",
    "+ 試著定義函式來**模擬寵物的行為**吧！"
   ]
  },
  {
   "cell_type": "code",
   "execution_count": 11,
   "metadata": {},
   "outputs": [],
   "source": [
    "#你家狗\n",
    "def dog():\n",
    "    print(\"汪汪汪\")"
   ]
  },
  {
   "cell_type": "code",
   "execution_count": 2,
   "metadata": {},
   "outputs": [],
   "source": [
    "#你家鸚鵡\n",
    "def parrot(name):\n",
    "    print(\"Hello, \"+name)\n",
    "    print(name+\" \"+name+\" \"+name)"
   ]
  },
  {
   "cell_type": "code",
   "execution_count": 3,
   "metadata": {},
   "outputs": [],
   "source": [
    "#你家貓\n",
    "def cat():\n",
    "    return False"
   ]
  },
  {
   "cell_type": "markdown",
   "metadata": {},
   "source": [
    "==============  \n",
    "\n",
    "呼叫函式的方式如下，沒有指定的變數留空白即可\n",
    "<pre>\n",
    "函式名稱（指定的變數）\n",
    "</pre>\n",
    "+ 試著呼叫狗（沒有指定的變數）"
   ]
  },
  {
   "cell_type": "code",
   "execution_count": 4,
   "metadata": {},
   "outputs": [
    {
     "name": "stdout",
     "output_type": "stream",
     "text": [
      "汪汪汪\n"
     ]
    }
   ],
   "source": [
    "dog()"
   ]
  },
  {
   "cell_type": "markdown",
   "metadata": {},
   "source": [
    "==============  \n",
    "\n",
    "+ 試著呼叫鸚鵡（需要給函式你的名字）"
   ]
  },
  {
   "cell_type": "code",
   "execution_count": 6,
   "metadata": {},
   "outputs": [
    {
     "name": "stdout",
     "output_type": "stream",
     "text": [
      "Hello, Lisa\n",
      "Lisa Lisa Lisa\n"
     ]
    }
   ],
   "source": [
    "parrot(\"Lisa\")"
   ]
  },
  {
   "cell_type": "markdown",
   "metadata": {},
   "source": [
    "==============  \n",
    "\n",
    "+  都呼叫試試看"
   ]
  },
  {
   "cell_type": "code",
   "execution_count": 7,
   "metadata": {},
   "outputs": [
    {
     "name": "stdout",
     "output_type": "stream",
     "text": [
      "汪汪汪\n",
      "Hello, George\n",
      "George George George\n"
     ]
    }
   ],
   "source": [
    "dog()\n",
    "parrot(\"George\")"
   ]
  },
  {
   "cell_type": "markdown",
   "metadata": {},
   "source": [
    "==============  \n",
    "\n",
    "\n",
    "+ 試著呼叫貓，檢查貓在不在\n"
   ]
  },
  {
   "cell_type": "code",
   "execution_count": 8,
   "metadata": {},
   "outputs": [
    {
     "name": "stdout",
     "output_type": "stream",
     "text": [
      "False\n"
     ]
    }
   ],
   "source": [
    "iscat=cat()\n",
    "print(iscat)"
   ]
  }
 ],
 "metadata": {
  "kernelspec": {
   "display_name": "Python 3",
   "language": "python",
   "name": "python3"
  },
  "language_info": {
   "codemirror_mode": {
    "name": "ipython",
    "version": 3
   },
   "file_extension": ".py",
   "mimetype": "text/x-python",
   "name": "python",
   "nbconvert_exporter": "python",
   "pygments_lexer": "ipython3",
   "version": "3.7.4"
  }
 },
 "nbformat": 4,
 "nbformat_minor": 4
}
